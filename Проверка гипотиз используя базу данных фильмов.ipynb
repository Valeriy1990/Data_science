{
  "nbformat": 4,
  "nbformat_minor": 0,
  "metadata": {
    "colab": {
      "provenance": [],
      "include_colab_link": true
    },
    "kernelspec": {
      "name": "python3",
      "display_name": "Python 3"
    },
    "language_info": {
      "name": "python"
    }
  },
  "cells": [
    {
      "cell_type": "markdown",
      "metadata": {
        "id": "view-in-github",
        "colab_type": "text"
      },
      "source": [
        "<a href=\"https://colab.research.google.com/github/Valeriy1990/Data_science/blob/main/%D0%9F%D1%80%D0%BE%D0%B2%D0%B5%D1%80%D0%BA%D0%B0%20%D0%B3%D0%B8%D0%BF%D0%BE%D1%82%D0%B8%D0%B7%20%D0%B8%D1%81%D0%BF%D0%BE%D0%BB%D1%8C%D0%B7%D1%83%D1%8F%20%D0%B1%D0%B0%D0%B7%D1%83%20%D0%B4%D0%B0%D0%BD%D0%BD%D1%8B%D1%85%20%D1%84%D0%B8%D0%BB%D1%8C%D0%BC%D0%BE%D0%B2.ipynb\" target=\"_parent\"><img src=\"https://colab.research.google.com/assets/colab-badge.svg\" alt=\"Open In Colab\"/></a>"
      ]
    },
    {

      }
    },
    {
      "cell_type": "markdown",
      "source": [
        "**Навигация по уроку**\n",
        "\n",
        "1. [Библиотеки Python для Data Science](https://colab.research.google.com/drive/1VKRkuVNaSRPy6uNRhWLIlfaTnLPuyWcC)\n",
        "2. [Отзывы к фильмам (исследуем датасет IMDB)](https://colab.research.google.com/drive/1jL4XbkAMuMNVPXhfsE8Z2Z4h-sGtyAq1)\n",
        "3. Домашняя работа"
      ],
      "metadata": {
        "id": "8LIWrmOPjBO6"
      }
    },
    {
      "cell_type": "markdown",
      "source": [
        "Используя базу данных фильмов из практической части урока, проверьте следующие гипотезы:\n",
        "\n",
        "1. Большинство фильмов выпускаются по пятницам\n",
        "2. Известные актеры снимаются в самых кассовых фильмах\n",
        "3. Известные актеры снимаются в самыx дорогих фильмах\n",
        "\n",
        "Построить графики по гипотезам. Сколько актеров из вашего результата вам знакомы?"
      ],
      "metadata": {
        "id": "295t3FpUh8SP"
      }
    },
    {
      "cell_type": "code",
      "execution_count": null,
      "metadata": {
        "id": "El4o9_QWeq78"
      },
      "outputs": [],
      "source": [
        "from requests import get\n",
        "response = get(\"https://storage.yandexcloud.net/academy.ai/the_movies_dataset.zip\")"
      ]
    },
    {
      "cell_type": "code",
      "source": [
        "with open('the_movies_dataset.zip', 'wb') as f:\n",
        "    f.write(response.content)\n",
        "\n",
        "with open('the_movies_dataset.zip', 'wb') as f:\n",
        "    for chunk in response.iter_content(chunk_size=8192):\n",
        "        f.write(chunk)\n",
        "\n",
        "!unzip -qo \"the_movies_dataset.zip\" -d ./the_movies_dataset\n",
        "\n",
        "FILE_PATH = './the_movies_dataset'\n",
        "\n",
        "import os\n",
        "\n",
        "os.listdir(FILE_PATH)"
      ],
      "metadata": {
        "colab": {
          "base_uri": "https://localhost:8080/"
        },
        "id": "q0Y_xfTvTHvQ",
        "outputId": "f7dca378-119f-4391-940b-8c6a4682190a"
      },
      "execution_count": null,
      "outputs": [
        {
          "output_type": "execute_result",
          "data": {
            "text/plain": [
              "['movies_metadata.csv',\n",
              " 'credits.csv',\n",
              " 'ratings_small.csv',\n",
              " 'links_small.csv',\n",
              " 'links.csv',\n",
              " 'keywords.csv',\n",
              " 'ratings.csv']"
            ]
          },
          "metadata": {},
          "execution_count": 3
        }
      ]
    },
    {
      "cell_type": "code",
      "source": [
        "%matplotlib inline\n",
        "import matplotlib.pyplot as plt\n",
        "import seaborn as sns\n",
        "\n",
        "import pandas as pd\n",
        "import numpy as np\n",
        "import ast\n",
        "import json\n",
        "\n",
        "import warnings\n",
        "warnings.filterwarnings('ignore')"
      ],
      "metadata": {
        "id": "-NGIjcBTThqV"
      },
      "execution_count": null,
      "outputs": []
    },
    {
      "cell_type": "markdown",
      "source": [
        "Гипотеза 1: Большинство фильмов выпускаются по пятницам"
      ],
      "metadata": {
        "id": "-bvFYo-qVHKq"
      }
    },
    {
      "cell_type": "code",
      "source": [
        "df_movies_dataset = pd.read_csv(f'{FILE_PATH}/movies_metadata.csv')\n",
        "\n",
        "df = df_movies_dataset[['id', 'release_date']] # Фильтация колонок\n",
        "df.head()"
      ],
      "metadata": {
        "colab": {
          "base_uri": "https://localhost:8080/",
          "height": 206
        },
        "id": "RH-JoyZaT8mf",
        "outputId": "62a9e642-48d3-43a1-d88a-4dd42d1a5299"
      },
      "execution_count": null,
      "outputs": [
        {
          "output_type": "execute_result",
          "data": {
            "text/plain": [
              "      id release_date\n",
              "0    862   1995-10-30\n",
              "1   8844   1995-12-15\n",
              "2  15602   1995-12-22\n",
              "3  31357   1995-12-22\n",
              "4  11862   1995-02-10"
            ],
            "text/html": [
              "\n",
              "  <div id=\"df-3667ee4b-5946-43db-ae4b-7fa6453d2a45\" class=\"colab-df-container\">\n",
              "    <div>\n",
              "<style scoped>\n",
              "    .dataframe tbody tr th:only-of-type {\n",
              "        vertical-align: middle;\n",
              "    }\n",
              "\n",
              "    .dataframe tbody tr th {\n",
              "        vertical-align: top;\n",
              "    }\n",
              "\n",
              "    .dataframe thead th {\n",
              "        text-align: right;\n",
              "    }\n",
              "</style>\n",
              "<table border=\"1\" class=\"dataframe\">\n",
              "  <thead>\n",
              "    <tr style=\"text-align: right;\">\n",
              "      <th></th>\n",
              "      <th>id</th>\n",
              "      <th>release_date</th>\n",
              "    </tr>\n",
              "  </thead>\n",
              "  <tbody>\n",
              "    <tr>\n",
              "      <th>0</th>\n",
              "      <td>862</td>\n",
              "      <td>1995-10-30</td>\n",
              "    </tr>\n",
              "    <tr>\n",
              "      <th>1</th>\n",
              "      <td>8844</td>\n",
              "      <td>1995-12-15</td>\n",
              "    </tr>\n",
              "    <tr>\n",
              "      <th>2</th>\n",
              "      <td>15602</td>\n",
              "      <td>1995-12-22</td>\n",
              "    </tr>\n",
              "    <tr>\n",
              "      <th>3</th>\n",
              "      <td>31357</td>\n",
              "      <td>1995-12-22</td>\n",
              "    </tr>\n",
              "    <tr>\n",
              "      <th>4</th>\n",
              "      <td>11862</td>\n",
              "      <td>1995-02-10</td>\n",
              "    </tr>\n",
              "  </tbody>\n",
              "</table>\n",
              "</div>\n",
              "    <div class=\"colab-df-buttons\">\n",
              "\n",
              "  <div class=\"colab-df-container\">\n",
              "    <button class=\"colab-df-convert\" onclick=\"convertToInteractive('df-3667ee4b-5946-43db-ae4b-7fa6453d2a45')\"\n",
              "            title=\"Convert this dataframe to an interactive table.\"\n",
              "            style=\"display:none;\">\n",
              "\n",
              "  <svg xmlns=\"http://www.w3.org/2000/svg\" height=\"24px\" viewBox=\"0 -960 960 960\">\n",
              "    <path d=\"M120-120v-720h720v720H120Zm60-500h600v-160H180v160Zm220 220h160v-160H400v160Zm0 220h160v-160H400v160ZM180-400h160v-160H180v160Zm440 0h160v-160H620v160ZM180-180h160v-160H180v160Zm440 0h160v-160H620v160Z\"/>\n",
              "  </svg>\n",
              "    </button>\n",
              "\n",
              "  <style>\n",
              "    .colab-df-container {\n",
              "      display:flex;\n",
              "      gap: 12px;\n",
              "    }\n",
              "\n",
              "    .colab-df-convert {\n",
              "      background-color: #E8F0FE;\n",
              "      border: none;\n",
              "      border-radius: 50%;\n",
              "      cursor: pointer;\n",
              "      display: none;\n",
              "      fill: #1967D2;\n",
              "      height: 32px;\n",
              "      padding: 0 0 0 0;\n",
              "      width: 32px;\n",
              "    }\n",
              "\n",
              "    .colab-df-convert:hover {\n",
              "      background-color: #E2EBFA;\n",
              "      box-shadow: 0px 1px 2px rgba(60, 64, 67, 0.3), 0px 1px 3px 1px rgba(60, 64, 67, 0.15);\n",
              "      fill: #174EA6;\n",
              "    }\n",
              "\n",
              "    .colab-df-buttons div {\n",
              "      margin-bottom: 4px;\n",
              "    }\n",
              "\n",
              "    [theme=dark] .colab-df-convert {\n",
              "      background-color: #3B4455;\n",
              "      fill: #D2E3FC;\n",
              "    }\n",
              "\n",
              "    [theme=dark] .colab-df-convert:hover {\n",
              "      background-color: #434B5C;\n",
              "      box-shadow: 0px 1px 3px 1px rgba(0, 0, 0, 0.15);\n",
              "      filter: drop-shadow(0px 1px 2px rgba(0, 0, 0, 0.3));\n",
              "      fill: #FFFFFF;\n",
              "    }\n",
              "  </style>\n",
              "\n",
              "    <script>\n",
              "      const buttonEl =\n",
              "        document.querySelector('#df-3667ee4b-5946-43db-ae4b-7fa6453d2a45 button.colab-df-convert');\n",
              "      buttonEl.style.display =\n",
              "        google.colab.kernel.accessAllowed ? 'block' : 'none';\n",
              "\n",
              "      async function convertToInteractive(key) {\n",
              "        const element = document.querySelector('#df-3667ee4b-5946-43db-ae4b-7fa6453d2a45');\n",
              "        const dataTable =\n",
              "          await google.colab.kernel.invokeFunction('convertToInteractive',\n",
              "                                                    [key], {});\n",
              "        if (!dataTable) return;\n",
              "\n",
              "        const docLinkHtml = 'Like what you see? Visit the ' +\n",
              "          '<a target=\"_blank\" href=https://colab.research.google.com/notebooks/data_table.ipynb>data table notebook</a>'\n",
              "          + ' to learn more about interactive tables.';\n",
              "        element.innerHTML = '';\n",
              "        dataTable['output_type'] = 'display_data';\n",
              "        await google.colab.output.renderOutput(dataTable, element);\n",
              "        const docLink = document.createElement('div');\n",
              "        docLink.innerHTML = docLinkHtml;\n",
              "        element.appendChild(docLink);\n",
              "      }\n",
              "    </script>\n",
              "  </div>\n",
              "\n",
              "\n",
              "    <div id=\"df-3fa0eefb-35b3-4c70-9f1e-bf43be799742\">\n",
              "      <button class=\"colab-df-quickchart\" onclick=\"quickchart('df-3fa0eefb-35b3-4c70-9f1e-bf43be799742')\"\n",
              "                title=\"Suggest charts\"\n",
              "                style=\"display:none;\">\n",
              "\n",
              "<svg xmlns=\"http://www.w3.org/2000/svg\" height=\"24px\"viewBox=\"0 0 24 24\"\n",
              "     width=\"24px\">\n",
              "    <g>\n",
              "        <path d=\"M19 3H5c-1.1 0-2 .9-2 2v14c0 1.1.9 2 2 2h14c1.1 0 2-.9 2-2V5c0-1.1-.9-2-2-2zM9 17H7v-7h2v7zm4 0h-2V7h2v10zm4 0h-2v-4h2v4z\"/>\n",
              "    </g>\n",
              "</svg>\n",
              "      </button>\n",
              "\n",
              "<style>\n",
              "  .colab-df-quickchart {\n",
              "      --bg-color: #E8F0FE;\n",
              "      --fill-color: #1967D2;\n",
              "      --hover-bg-color: #E2EBFA;\n",
              "      --hover-fill-color: #174EA6;\n",
              "      --disabled-fill-color: #AAA;\n",
              "      --disabled-bg-color: #DDD;\n",
              "  }\n",
              "\n",
              "  [theme=dark] .colab-df-quickchart {\n",
              "      --bg-color: #3B4455;\n",
              "      --fill-color: #D2E3FC;\n",
              "      --hover-bg-color: #434B5C;\n",
              "      --hover-fill-color: #FFFFFF;\n",
              "      --disabled-bg-color: #3B4455;\n",
              "      --disabled-fill-color: #666;\n",
              "  }\n",
              "\n",
              "  .colab-df-quickchart {\n",
              "    background-color: var(--bg-color);\n",
              "    border: none;\n",
              "    border-radius: 50%;\n",
              "    cursor: pointer;\n",
              "    display: none;\n",
              "    fill: var(--fill-color);\n",
              "    height: 32px;\n",
              "    padding: 0;\n",
              "    width: 32px;\n",
              "  }\n",
              "\n",
              "  .colab-df-quickchart:hover {\n",
              "    background-color: var(--hover-bg-color);\n",
              "    box-shadow: 0 1px 2px rgba(60, 64, 67, 0.3), 0 1px 3px 1px rgba(60, 64, 67, 0.15);\n",
              "    fill: var(--button-hover-fill-color);\n",
              "  }\n",
              "\n",
              "  .colab-df-quickchart-complete:disabled,\n",
              "  .colab-df-quickchart-complete:disabled:hover {\n",
              "    background-color: var(--disabled-bg-color);\n",
              "    fill: var(--disabled-fill-color);\n",
              "    box-shadow: none;\n",
              "  }\n",
              "\n",
              "  .colab-df-spinner {\n",
              "    border: 2px solid var(--fill-color);\n",
              "    border-color: transparent;\n",
              "    border-bottom-color: var(--fill-color);\n",
              "    animation:\n",
              "      spin 1s steps(1) infinite;\n",
              "  }\n",
              "\n",
              "  @keyframes spin {\n",
              "    0% {\n",
              "      border-color: transparent;\n",
              "      border-bottom-color: var(--fill-color);\n",
              "      border-left-color: var(--fill-color);\n",
              "    }\n",
              "    20% {\n",
              "      border-color: transparent;\n",
              "      border-left-color: var(--fill-color);\n",
              "      border-top-color: var(--fill-color);\n",
              "    }\n",
              "    30% {\n",
              "      border-color: transparent;\n",
              "      border-left-color: var(--fill-color);\n",
              "      border-top-color: var(--fill-color);\n",
              "      border-right-color: var(--fill-color);\n",
              "    }\n",
              "    40% {\n",
              "      border-color: transparent;\n",
              "      border-right-color: var(--fill-color);\n",
              "      border-top-color: var(--fill-color);\n",
              "    }\n",
              "    60% {\n",
              "      border-color: transparent;\n",
              "      border-right-color: var(--fill-color);\n",
              "    }\n",
              "    80% {\n",
              "      border-color: transparent;\n",
              "      border-right-color: var(--fill-color);\n",
              "      border-bottom-color: var(--fill-color);\n",
              "    }\n",
              "    90% {\n",
              "      border-color: transparent;\n",
              "      border-bottom-color: var(--fill-color);\n",
              "    }\n",
              "  }\n",
              "</style>\n",
              "\n",
              "      <script>\n",
              "        async function quickchart(key) {\n",
              "          const quickchartButtonEl =\n",
              "            document.querySelector('#' + key + ' button');\n",
              "          quickchartButtonEl.disabled = true;  // To prevent multiple clicks.\n",
              "          quickchartButtonEl.classList.add('colab-df-spinner');\n",
              "          try {\n",
              "            const charts = await google.colab.kernel.invokeFunction(\n",
              "                'suggestCharts', [key], {});\n",
              "          } catch (error) {\n",
              "            console.error('Error during call to suggestCharts:', error);\n",
              "          }\n",
              "          quickchartButtonEl.classList.remove('colab-df-spinner');\n",
              "          quickchartButtonEl.classList.add('colab-df-quickchart-complete');\n",
              "        }\n",
              "        (() => {\n",
              "          let quickchartButtonEl =\n",
              "            document.querySelector('#df-3fa0eefb-35b3-4c70-9f1e-bf43be799742 button');\n",
              "          quickchartButtonEl.style.display =\n",
              "            google.colab.kernel.accessAllowed ? 'block' : 'none';\n",
              "        })();\n",
              "      </script>\n",
              "    </div>\n",
              "    </div>\n",
              "  </div>\n"
            ],
            "application/vnd.google.colaboratory.intrinsic+json": {
              "type": "dataframe",
              "variable_name": "df",
              "summary": "{\n  \"name\": \"df\",\n  \"rows\": 45466,\n  \"fields\": [\n    {\n      \"column\": \"id\",\n      \"properties\": {\n        \"dtype\": \"string\",\n        \"num_unique_values\": 45436,\n        \"samples\": [\n          \"274326\",\n          \"156045\",\n          \"87894\"\n        ],\n        \"semantic_type\": \"\",\n        \"description\": \"\"\n      }\n    },\n    {\n      \"column\": \"release_date\",\n      \"properties\": {\n        \"dtype\": \"category\",\n        \"num_unique_values\": 17336,\n        \"samples\": [\n          \"1950-10-02\",\n          \"2015-12-24\",\n          \"1986-09-30\"\n        ],\n        \"semantic_type\": \"\",\n        \"description\": \"\"\n      }\n    }\n  ]\n}"
            }
          },
          "metadata": {},
          "execution_count": 5
        }
      ]
    },
    {
      "cell_type": "code",
      "source": [
        "df.info()  # Определяем тип данных во фрейме"
      ],
      "metadata": {
        "colab": {
          "base_uri": "https://localhost:8080/"
        },
        "id": "EvZmCl-gVYKM",
        "outputId": "659cf6ec-f8da-46e5-8843-cfbd52d58db3"
      },
      "execution_count": null,
      "outputs": [
        {
          "output_type": "stream",
          "name": "stdout",
          "text": [
            "<class 'pandas.core.frame.DataFrame'>\n",
            "RangeIndex: 45466 entries, 0 to 45465\n",
            "Data columns (total 2 columns):\n",
            " #   Column        Non-Null Count  Dtype \n",
            "---  ------        --------------  ----- \n",
            " 0   id            45466 non-null  object\n",
            " 1   release_date  45379 non-null  object\n",
            "dtypes: object(2)\n",
            "memory usage: 710.5+ KB\n"
          ]
        }
      ]
    },
    {
      "cell_type": "code",
      "source": [
        "my_dict = {0: 'Пн', 1: 'Вт', 2: 'Ср', 3: 'Чт', 4: \"Пт\", 5: \"Сб\", 6: \"Вс\"}\n",
        "\n",
        "df['release_date'] = pd.to_datetime(df['release_date'], errors='coerce')  # Приводим даты к типу datetime\n",
        "df = df[(df['release_date'].notnull())]  # Фильтуем на NaN\n",
        "df['release_day_week_num']= df['release_date'].apply(lambda x: x.weekday())\n",
        "df['release_day_week']= df['release_day_week_num'].apply(lambda x: my_dict[x])  # Замена данных datetime на день недели\n"
      ],
      "metadata": {
        "id": "c6xefJ_eWeu1"
      },
      "execution_count": null,
      "outputs": []
    },
    {
      "cell_type": "code",
      "source": [
        "df['release_day_week'] = pd.Categorical(df['release_day_week'], categories=my_dict.values(), ordered=True) # Преобразуем столбец в категориальный тип с заданным порядком\n",
        "\n",
        "sns.histplot(df.release_day_week, discrete=True)\n"
      ],
      "metadata": {
        "colab": {
          "base_uri": "https://localhost:8080/",
          "height": 468
        },
        "id": "kibSec70Zzwe",
        "outputId": "9d49e599-f9e6-43dd-bb8c-e742492b84aa"
      },
      "execution_count": null,
      "outputs": [
        {
          "output_type": "execute_result",
          "data": {
            "text/plain": [
              "<Axes: xlabel='release_day_week', ylabel='Count'>"
            ]
          },
          "metadata": {},
          "execution_count": 8
        },
        {
          "output_type": "display_data",
          "data": {
            "text/plain": [
              "<Figure size 640x480 with 1 Axes>"
            ],
            "image/png": "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\n"
          },
          "metadata": {}
        }
      ]
    },
    {
      "cell_type": "markdown",
      "source": [
        "Вывод: исходя из гистограммы, большенство фильмов выпускается по пятницам. Гипотеза №1 подтверждена."
      ],
      "metadata": {
        "id": "YjmwtgBp9FnO"
      }
    },
    {
      "cell_type": "markdown",
      "source": [
        "Гипотеза 2: Известные актеры снимаются в самых кассовых фильмах"
      ],
      "metadata": {
        "id": "E9g1Q9ptyx3O"
      }
    },
    {
      "cell_type": "code",
      "source": [
        "df_credits = pd.read_csv(f'{FILE_PATH}/credits.csv')\n",
        "df_credits.info()"
      ],
      "metadata": {
        "colab": {
          "base_uri": "https://localhost:8080/"
        },
        "id": "O0cxqv1Hyxs5",
        "outputId": "81d151c8-c342-4401-fb1f-23a6dcaff9de"
      },
      "execution_count": null,
      "outputs": [
        {
          "output_type": "stream",
          "name": "stdout",
          "text": [
            "<class 'pandas.core.frame.DataFrame'>\n",
            "RangeIndex: 45476 entries, 0 to 45475\n",
            "Data columns (total 3 columns):\n",
            " #   Column  Non-Null Count  Dtype \n",
            "---  ------  --------------  ----- \n",
            " 0   cast    45476 non-null  object\n",
            " 1   crew    45476 non-null  object\n",
            " 2   id      45476 non-null  int64 \n",
            "dtypes: int64(1), object(2)\n",
            "memory usage: 1.0+ MB\n"
          ]
        }
      ]
    },
    {
      "cell_type": "code",
      "source": [
        "def convert_int(x):\n",
        "    try:\n",
        "        return int(x)\n",
        "    except:\n",
        "        return np.nan\n",
        "\n",
        "df = df_movies_dataset\n",
        "df['id'] = df['id'].apply(convert_int)  # Преобразуем к int\n",
        "\n",
        "df = df.drop(df[df['id'].isnull()].index)  # Уберём NaN\n",
        "df['id'] = df['id'].astype('int') # установим тип int\n",
        "\n",
        "df.id.info()"
      ],
      "metadata": {
        "colab": {
          "base_uri": "https://localhost:8080/"
        },
        "id": "IN4RXxkB87xB",
        "outputId": "3a877fec-5463-4536-9fec-b29d42f02b6e"
      },
      "execution_count": null,
      "outputs": [
        {
          "output_type": "stream",
          "name": "stdout",
          "text": [
            "<class 'pandas.core.series.Series'>\n",
            "Index: 45463 entries, 0 to 45465\n",
            "Series name: id\n",
            "Non-Null Count  Dtype\n",
            "--------------  -----\n",
            "45463 non-null  int64\n",
            "dtypes: int64(1)\n",
            "memory usage: 710.4 KB\n"
          ]
        }
      ]
    },
    {
      "cell_type": "code",
      "source": [
        "df_merge = df.merge(df_credits, on='id') # Объеденяем датасеты movies_metadata.csv и credits.csv\n",
        "df_merge['cast'] = df_merge['cast'].apply(ast.literal_eval) # Строку в словарь\n",
        "df_merge.head()"
      ],
      "metadata": {
        "colab": {
          "base_uri": "https://localhost:8080/",
          "height": 690
        },
        "id": "vY4_84TaAUlR",
        "outputId": "81c7b955-8c9d-4f23-ff80-1bff38571153"
      },
      "execution_count": null,
      "outputs": [
        {
          "output_type": "execute_result",
          "data": {
            "text/plain": [
              "   adult                              belongs_to_collection    budget  \\\n",
              "0  False  {'id': 10194, 'name': 'Toy Story Collection', ...  30000000   \n",
              "1  False                                                NaN  65000000   \n",
              "2  False  {'id': 119050, 'name': 'Grumpy Old Men Collect...         0   \n",
              "3  False                                                NaN  16000000   \n",
              "4  False  {'id': 96871, 'name': 'Father of the Bride Col...         0   \n",
              "\n",
              "                                              genres  \\\n",
              "0  [{'id': 16, 'name': 'Animation'}, {'id': 35, '...   \n",
              "1  [{'id': 12, 'name': 'Adventure'}, {'id': 14, '...   \n",
              "2  [{'id': 10749, 'name': 'Romance'}, {'id': 35, ...   \n",
              "3  [{'id': 35, 'name': 'Comedy'}, {'id': 18, 'nam...   \n",
              "4                     [{'id': 35, 'name': 'Comedy'}]   \n",
              "\n",
              "                               homepage     id    imdb_id original_language  \\\n",
              "0  http://toystory.disney.com/toy-story    862  tt0114709                en   \n",
              "1                                   NaN   8844  tt0113497                en   \n",
              "2                                   NaN  15602  tt0113228                en   \n",
              "3                                   NaN  31357  tt0114885                en   \n",
              "4                                   NaN  11862  tt0113041                en   \n",
              "\n",
              "                original_title  \\\n",
              "0                    Toy Story   \n",
              "1                      Jumanji   \n",
              "2             Grumpier Old Men   \n",
              "3            Waiting to Exhale   \n",
              "4  Father of the Bride Part II   \n",
              "\n",
              "                                            overview  ... runtime  \\\n",
              "0  Led by Woody, Andy's toys live happily in his ...  ...    81.0   \n",
              "1  When siblings Judy and Peter discover an encha...  ...   104.0   \n",
              "2  A family wedding reignites the ancient feud be...  ...   101.0   \n",
              "3  Cheated on, mistreated and stepped on, the wom...  ...   127.0   \n",
              "4  Just when George Banks has recovered from his ...  ...   106.0   \n",
              "\n",
              "                                    spoken_languages    status  \\\n",
              "0           [{'iso_639_1': 'en', 'name': 'English'}]  Released   \n",
              "1  [{'iso_639_1': 'en', 'name': 'English'}, {'iso...  Released   \n",
              "2           [{'iso_639_1': 'en', 'name': 'English'}]  Released   \n",
              "3           [{'iso_639_1': 'en', 'name': 'English'}]  Released   \n",
              "4           [{'iso_639_1': 'en', 'name': 'English'}]  Released   \n",
              "\n",
              "                                             tagline  \\\n",
              "0                                                NaN   \n",
              "1          Roll the dice and unleash the excitement!   \n",
              "2  Still Yelling. Still Fighting. Still Ready for...   \n",
              "3  Friends are the people who let you be yourself...   \n",
              "4  Just When His World Is Back To Normal... He's ...   \n",
              "\n",
              "                         title  video  vote_average vote_count  \\\n",
              "0                    Toy Story  False           7.7     5415.0   \n",
              "1                      Jumanji  False           6.9     2413.0   \n",
              "2             Grumpier Old Men  False           6.5       92.0   \n",
              "3            Waiting to Exhale  False           6.1       34.0   \n",
              "4  Father of the Bride Part II  False           5.7      173.0   \n",
              "\n",
              "                                                cast  \\\n",
              "0  [{'cast_id': 14, 'character': 'Woody (voice)',...   \n",
              "1  [{'cast_id': 1, 'character': 'Alan Parrish', '...   \n",
              "2  [{'cast_id': 2, 'character': 'Max Goldman', 'c...   \n",
              "3  [{'cast_id': 1, 'character': 'Savannah 'Vannah...   \n",
              "4  [{'cast_id': 1, 'character': 'George Banks', '...   \n",
              "\n",
              "                                                crew  \n",
              "0  [{'credit_id': '52fe4284c3a36847f8024f49', 'de...  \n",
              "1  [{'credit_id': '52fe44bfc3a36847f80a7cd1', 'de...  \n",
              "2  [{'credit_id': '52fe466a9251416c75077a89', 'de...  \n",
              "3  [{'credit_id': '52fe44779251416c91011acb', 'de...  \n",
              "4  [{'credit_id': '52fe44959251416c75039ed7', 'de...  \n",
              "\n",
              "[5 rows x 26 columns]"
            ],
            "text/html": [
              "\n",
              "  <div id=\"df-54e3ca54-44e3-44cb-852b-173cd13ef979\" class=\"colab-df-container\">\n",
              "    <div>\n",
              "<style scoped>\n",
              "    .dataframe tbody tr th:only-of-type {\n",
              "        vertical-align: middle;\n",
              "    }\n",
              "\n",
              "    .dataframe tbody tr th {\n",
              "        vertical-align: top;\n",
              "    }\n",
              "\n",
              "    .dataframe thead th {\n",
              "        text-align: right;\n",
              "    }\n",
              "</style>\n",
              "<table border=\"1\" class=\"dataframe\">\n",
              "  <thead>\n",
              "    <tr style=\"text-align: right;\">\n",
              "      <th></th>\n",
              "      <th>adult</th>\n",
              "      <th>belongs_to_collection</th>\n",
              "      <th>budget</th>\n",
              "      <th>genres</th>\n",
              "      <th>homepage</th>\n",
              "      <th>id</th>\n",
              "      <th>imdb_id</th>\n",
              "      <th>original_language</th>\n",
              "      <th>original_title</th>\n",
              "      <th>overview</th>\n",
              "      <th>...</th>\n",
              "      <th>runtime</th>\n",
              "      <th>spoken_languages</th>\n",
              "      <th>status</th>\n",
              "      <th>tagline</th>\n",
              "      <th>title</th>\n",
              "      <th>video</th>\n",
              "      <th>vote_average</th>\n",
              "      <th>vote_count</th>\n",
              "      <th>cast</th>\n",
              "      <th>crew</th>\n",
              "    </tr>\n",
              "  </thead>\n",
              "  <tbody>\n",
              "    <tr>\n",
              "      <th>0</th>\n",
              "      <td>False</td>\n",
              "      <td>{'id': 10194, 'name': 'Toy Story Collection', ...</td>\n",
              "      <td>30000000</td>\n",
              "      <td>[{'id': 16, 'name': 'Animation'}, {'id': 35, '...</td>\n",
              "      <td>http://toystory.disney.com/toy-story</td>\n",
              "      <td>862</td>\n",
              "      <td>tt0114709</td>\n",
              "      <td>en</td>\n",
              "      <td>Toy Story</td>\n",
              "      <td>Led by Woody, Andy's toys live happily in his ...</td>\n",
              "      <td>...</td>\n",
              "      <td>81.0</td>\n",
              "      <td>[{'iso_639_1': 'en', 'name': 'English'}]</td>\n",
              "      <td>Released</td>\n",
              "      <td>NaN</td>\n",
              "      <td>Toy Story</td>\n",
              "      <td>False</td>\n",
              "      <td>7.7</td>\n",
              "      <td>5415.0</td>\n",
              "      <td>[{'cast_id': 14, 'character': 'Woody (voice)',...</td>\n",
              "      <td>[{'credit_id': '52fe4284c3a36847f8024f49', 'de...</td>\n",
              "    </tr>\n",
              "    <tr>\n",
              "      <th>1</th>\n",
              "      <td>False</td>\n",
              "      <td>NaN</td>\n",
              "      <td>65000000</td>\n",
              "      <td>[{'id': 12, 'name': 'Adventure'}, {'id': 14, '...</td>\n",
              "      <td>NaN</td>\n",
              "      <td>8844</td>\n",
              "      <td>tt0113497</td>\n",
              "      <td>en</td>\n",
              "      <td>Jumanji</td>\n",
              "      <td>When siblings Judy and Peter discover an encha...</td>\n",
              "      <td>...</td>\n",
              "      <td>104.0</td>\n",
              "      <td>[{'iso_639_1': 'en', 'name': 'English'}, {'iso...</td>\n",
              "      <td>Released</td>\n",
              "      <td>Roll the dice and unleash the excitement!</td>\n",
              "      <td>Jumanji</td>\n",
              "      <td>False</td>\n",
              "      <td>6.9</td>\n",
              "      <td>2413.0</td>\n",
              "      <td>[{'cast_id': 1, 'character': 'Alan Parrish', '...</td>\n",
              "      <td>[{'credit_id': '52fe44bfc3a36847f80a7cd1', 'de...</td>\n",
              "    </tr>\n",
              "    <tr>\n",
              "      <th>2</th>\n",
              "      <td>False</td>\n",
              "      <td>{'id': 119050, 'name': 'Grumpy Old Men Collect...</td>\n",
              "      <td>0</td>\n",
              "      <td>[{'id': 10749, 'name': 'Romance'}, {'id': 35, ...</td>\n",
              "      <td>NaN</td>\n",
              "      <td>15602</td>\n",
              "      <td>tt0113228</td>\n",
              "      <td>en</td>\n",
              "      <td>Grumpier Old Men</td>\n",
              "      <td>A family wedding reignites the ancient feud be...</td>\n",
              "      <td>...</td>\n",
              "      <td>101.0</td>\n",
              "      <td>[{'iso_639_1': 'en', 'name': 'English'}]</td>\n",
              "      <td>Released</td>\n",
              "      <td>Still Yelling. Still Fighting. Still Ready for...</td>\n",
              "      <td>Grumpier Old Men</td>\n",
              "      <td>False</td>\n",
              "      <td>6.5</td>\n",
              "      <td>92.0</td>\n",
              "      <td>[{'cast_id': 2, 'character': 'Max Goldman', 'c...</td>\n",
              "      <td>[{'credit_id': '52fe466a9251416c75077a89', 'de...</td>\n",
              "    </tr>\n",
              "    <tr>\n",
              "      <th>3</th>\n",
              "      <td>False</td>\n",
              "      <td>NaN</td>\n",
              "      <td>16000000</td>\n",
              "      <td>[{'id': 35, 'name': 'Comedy'}, {'id': 18, 'nam...</td>\n",
              "      <td>NaN</td>\n",
              "      <td>31357</td>\n",
              "      <td>tt0114885</td>\n",
              "      <td>en</td>\n",
              "      <td>Waiting to Exhale</td>\n",
              "      <td>Cheated on, mistreated and stepped on, the wom...</td>\n",
              "      <td>...</td>\n",
              "      <td>127.0</td>\n",
              "      <td>[{'iso_639_1': 'en', 'name': 'English'}]</td>\n",
              "      <td>Released</td>\n",
              "      <td>Friends are the people who let you be yourself...</td>\n",
              "      <td>Waiting to Exhale</td>\n",
              "      <td>False</td>\n",
              "      <td>6.1</td>\n",
              "      <td>34.0</td>\n",
              "      <td>[{'cast_id': 1, 'character': 'Savannah 'Vannah...</td>\n",
              "      <td>[{'credit_id': '52fe44779251416c91011acb', 'de...</td>\n",
              "    </tr>\n",
              "    <tr>\n",
              "      <th>4</th>\n",
              "      <td>False</td>\n",
              "      <td>{'id': 96871, 'name': 'Father of the Bride Col...</td>\n",
              "      <td>0</td>\n",
              "      <td>[{'id': 35, 'name': 'Comedy'}]</td>\n",
              "      <td>NaN</td>\n",
              "      <td>11862</td>\n",
              "      <td>tt0113041</td>\n",
              "      <td>en</td>\n",
              "      <td>Father of the Bride Part II</td>\n",
              "      <td>Just when George Banks has recovered from his ...</td>\n",
              "      <td>...</td>\n",
              "      <td>106.0</td>\n",
              "      <td>[{'iso_639_1': 'en', 'name': 'English'}]</td>\n",
              "      <td>Released</td>\n",
              "      <td>Just When His World Is Back To Normal... He's ...</td>\n",
              "      <td>Father of the Bride Part II</td>\n",
              "      <td>False</td>\n",
              "      <td>5.7</td>\n",
              "      <td>173.0</td>\n",
              "      <td>[{'cast_id': 1, 'character': 'George Banks', '...</td>\n",
              "      <td>[{'credit_id': '52fe44959251416c75039ed7', 'de...</td>\n",
              "    </tr>\n",
              "  </tbody>\n",
              "</table>\n",
              "<p>5 rows × 26 columns</p>\n",
              "</div>\n",
              "    <div class=\"colab-df-buttons\">\n",
              "\n",
              "  <div class=\"colab-df-container\">\n",
              "    <button class=\"colab-df-convert\" onclick=\"convertToInteractive('df-54e3ca54-44e3-44cb-852b-173cd13ef979')\"\n",
              "            title=\"Convert this dataframe to an interactive table.\"\n",
              "            style=\"display:none;\">\n",
              "\n",
              "  <svg xmlns=\"http://www.w3.org/2000/svg\" height=\"24px\" viewBox=\"0 -960 960 960\">\n",
              "    <path d=\"M120-120v-720h720v720H120Zm60-500h600v-160H180v160Zm220 220h160v-160H400v160Zm0 220h160v-160H400v160ZM180-400h160v-160H180v160Zm440 0h160v-160H620v160ZM180-180h160v-160H180v160Zm440 0h160v-160H620v160Z\"/>\n",
              "  </svg>\n",
              "    </button>\n",
              "\n",
              "  <style>\n",
              "    .colab-df-container {\n",
              "      display:flex;\n",
              "      gap: 12px;\n",
              "    }\n",
              "\n",
              "    .colab-df-convert {\n",
              "      background-color: #E8F0FE;\n",
              "      border: none;\n",
              "      border-radius: 50%;\n",
              "      cursor: pointer;\n",
              "      display: none;\n",
              "      fill: #1967D2;\n",
              "      height: 32px;\n",
              "      padding: 0 0 0 0;\n",
              "      width: 32px;\n",
              "    }\n",
              "\n",
              "    .colab-df-convert:hover {\n",
              "      background-color: #E2EBFA;\n",
              "      box-shadow: 0px 1px 2px rgba(60, 64, 67, 0.3), 0px 1px 3px 1px rgba(60, 64, 67, 0.15);\n",
              "      fill: #174EA6;\n",
              "    }\n",
              "\n",
              "    .colab-df-buttons div {\n",
              "      margin-bottom: 4px;\n",
              "    }\n",
              "\n",
              "    [theme=dark] .colab-df-convert {\n",
              "      background-color: #3B4455;\n",
              "      fill: #D2E3FC;\n",
              "    }\n",
              "\n",
              "    [theme=dark] .colab-df-convert:hover {\n",
              "      background-color: #434B5C;\n",
              "      box-shadow: 0px 1px 3px 1px rgba(0, 0, 0, 0.15);\n",
              "      filter: drop-shadow(0px 1px 2px rgba(0, 0, 0, 0.3));\n",
              "      fill: #FFFFFF;\n",
              "    }\n",
              "  </style>\n",
              "\n",
              "    <script>\n",
              "      const buttonEl =\n",
              "        document.querySelector('#df-54e3ca54-44e3-44cb-852b-173cd13ef979 button.colab-df-convert');\n",
              "      buttonEl.style.display =\n",
              "        google.colab.kernel.accessAllowed ? 'block' : 'none';\n",
              "\n",
              "      async function convertToInteractive(key) {\n",
              "        const element = document.querySelector('#df-54e3ca54-44e3-44cb-852b-173cd13ef979');\n",
              "        const dataTable =\n",
              "          await google.colab.kernel.invokeFunction('convertToInteractive',\n",
              "                                                    [key], {});\n",
              "        if (!dataTable) return;\n",
              "\n",
              "        const docLinkHtml = 'Like what you see? Visit the ' +\n",
              "          '<a target=\"_blank\" href=https://colab.research.google.com/notebooks/data_table.ipynb>data table notebook</a>'\n",
              "          + ' to learn more about interactive tables.';\n",
              "        element.innerHTML = '';\n",
              "        dataTable['output_type'] = 'display_data';\n",
              "        await google.colab.output.renderOutput(dataTable, element);\n",
              "        const docLink = document.createElement('div');\n",
              "        docLink.innerHTML = docLinkHtml;\n",
              "        element.appendChild(docLink);\n",
              "      }\n",
              "    </script>\n",
              "  </div>\n",
              "\n",
              "\n",
              "    <div id=\"df-5802b2f2-4a80-4370-8af6-8a39598d7316\">\n",
              "      <button class=\"colab-df-quickchart\" onclick=\"quickchart('df-5802b2f2-4a80-4370-8af6-8a39598d7316')\"\n",
              "                title=\"Suggest charts\"\n",
              "                style=\"display:none;\">\n",
              "\n",
              "<svg xmlns=\"http://www.w3.org/2000/svg\" height=\"24px\"viewBox=\"0 0 24 24\"\n",
              "     width=\"24px\">\n",
              "    <g>\n",
              "        <path d=\"M19 3H5c-1.1 0-2 .9-2 2v14c0 1.1.9 2 2 2h14c1.1 0 2-.9 2-2V5c0-1.1-.9-2-2-2zM9 17H7v-7h2v7zm4 0h-2V7h2v10zm4 0h-2v-4h2v4z\"/>\n",
              "    </g>\n",
              "</svg>\n",
              "      </button>\n",
              "\n",
              "<style>\n",
              "  .colab-df-quickchart {\n",
              "      --bg-color: #E8F0FE;\n",
              "      --fill-color: #1967D2;\n",
              "      --hover-bg-color: #E2EBFA;\n",
              "      --hover-fill-color: #174EA6;\n",
              "      --disabled-fill-color: #AAA;\n",
              "      --disabled-bg-color: #DDD;\n",
              "  }\n",
              "\n",
              "  [theme=dark] .colab-df-quickchart {\n",
              "      --bg-color: #3B4455;\n",
              "      --fill-color: #D2E3FC;\n",
              "      --hover-bg-color: #434B5C;\n",
              "      --hover-fill-color: #FFFFFF;\n",
              "      --disabled-bg-color: #3B4455;\n",
              "      --disabled-fill-color: #666;\n",
              "  }\n",
              "\n",
              "  .colab-df-quickchart {\n",
              "    background-color: var(--bg-color);\n",
              "    border: none;\n",
              "    border-radius: 50%;\n",
              "    cursor: pointer;\n",
              "    display: none;\n",
              "    fill: var(--fill-color);\n",
              "    height: 32px;\n",
              "    padding: 0;\n",
              "    width: 32px;\n",
              "  }\n",
              "\n",
              "  .colab-df-quickchart:hover {\n",
              "    background-color: var(--hover-bg-color);\n",
              "    box-shadow: 0 1px 2px rgba(60, 64, 67, 0.3), 0 1px 3px 1px rgba(60, 64, 67, 0.15);\n",
              "    fill: var(--button-hover-fill-color);\n",
              "  }\n",
              "\n",
              "  .colab-df-quickchart-complete:disabled,\n",
              "  .colab-df-quickchart-complete:disabled:hover {\n",
              "    background-color: var(--disabled-bg-color);\n",
              "    fill: var(--disabled-fill-color);\n",
              "    box-shadow: none;\n",
              "  }\n",
              "\n",
              "  .colab-df-spinner {\n",
              "    border: 2px solid var(--fill-color);\n",
              "    border-color: transparent;\n",
              "    border-bottom-color: var(--fill-color);\n",
              "    animation:\n",
              "      spin 1s steps(1) infinite;\n",
              "  }\n",
              "\n",
              "  @keyframes spin {\n",
              "    0% {\n",
              "      border-color: transparent;\n",
              "      border-bottom-color: var(--fill-color);\n",
              "      border-left-color: var(--fill-color);\n",
              "    }\n",
              "    20% {\n",
              "      border-color: transparent;\n",
              "      border-left-color: var(--fill-color);\n",
              "      border-top-color: var(--fill-color);\n",
              "    }\n",
              "    30% {\n",
              "      border-color: transparent;\n",
              "      border-left-color: var(--fill-color);\n",
              "      border-top-color: var(--fill-color);\n",
              "      border-right-color: var(--fill-color);\n",
              "    }\n",
              "    40% {\n",
              "      border-color: transparent;\n",
              "      border-right-color: var(--fill-color);\n",
              "      border-top-color: var(--fill-color);\n",
              "    }\n",
              "    60% {\n",
              "      border-color: transparent;\n",
              "      border-right-color: var(--fill-color);\n",
              "    }\n",
              "    80% {\n",
              "      border-color: transparent;\n",
              "      border-right-color: var(--fill-color);\n",
              "      border-bottom-color: var(--fill-color);\n",
              "    }\n",
              "    90% {\n",
              "      border-color: transparent;\n",
              "      border-bottom-color: var(--fill-color);\n",
              "    }\n",
              "  }\n",
              "</style>\n",
              "\n",
              "      <script>\n",
              "        async function quickchart(key) {\n",
              "          const quickchartButtonEl =\n",
              "            document.querySelector('#' + key + ' button');\n",
              "          quickchartButtonEl.disabled = true;  // To prevent multiple clicks.\n",
              "          quickchartButtonEl.classList.add('colab-df-spinner');\n",
              "          try {\n",
              "            const charts = await google.colab.kernel.invokeFunction(\n",
              "                'suggestCharts', [key], {});\n",
              "          } catch (error) {\n",
              "            console.error('Error during call to suggestCharts:', error);\n",
              "          }\n",
              "          quickchartButtonEl.classList.remove('colab-df-spinner');\n",
              "          quickchartButtonEl.classList.add('colab-df-quickchart-complete');\n",
              "        }\n",
              "        (() => {\n",
              "          let quickchartButtonEl =\n",
              "            document.querySelector('#df-5802b2f2-4a80-4370-8af6-8a39598d7316 button');\n",
              "          quickchartButtonEl.style.display =\n",
              "            google.colab.kernel.accessAllowed ? 'block' : 'none';\n",
              "        })();\n",
              "      </script>\n",
              "    </div>\n",
              "    </div>\n",
              "  </div>\n"
            ],
            "application/vnd.google.colaboratory.intrinsic+json": {
              "type": "dataframe",
              "variable_name": "df_merge"
            }
          },
          "metadata": {},
          "execution_count": 11
        }
      ]
    },
    {
      "cell_type": "code",
      "source": [
        "def get_name(x):\n",
        "    for i in x:\n",
        "        if i['name']:\n",
        "            return i['name']\n",
        "    return np.nan\n",
        "\n",
        "df_merge['name'] = df_merge['cast'].apply(get_name)  # Создаём новую колонку которая будет включать  имена актёров\n",
        "df_merge = df_merge[['name', 'id','original_title','revenue']]  # Фильтруем данные\n",
        "df_merge = df_merge[(df_merge['revenue'].notnull())]  # Фильтуем по NaN\n",
        "df_merge.info()\n"
      ],
      "metadata": {
        "colab": {
          "base_uri": "https://localhost:8080/"
        },
        "id": "VzUnNlBzAaQ2",
        "outputId": "30fe4638-def1-4e90-f8a9-76d77e468e07"
      },
      "execution_count": null,
      "outputs": [
        {
          "output_type": "stream",
          "name": "stdout",
          "text": [
            "<class 'pandas.core.frame.DataFrame'>\n",
            "Index: 45535 entries, 0 to 45537\n",
            "Data columns (total 4 columns):\n",
            " #   Column          Non-Null Count  Dtype  \n",
            "---  ------          --------------  -----  \n",
            " 0   name            43115 non-null  object \n",
            " 1   id              45535 non-null  int64  \n",
            " 2   original_title  45535 non-null  object \n",
            " 3   revenue         45535 non-null  float64\n",
            "dtypes: float64(1), int64(1), object(2)\n",
            "memory usage: 1.7+ MB\n"
          ]
        }
      ]
    },
    {
      "cell_type": "code",
      "source": [
        "plt.title('Актёры сгруппированные по кассовым сборам')\n",
        "df_merge.groupby('name').sum().sort_values('revenue', ascending=False)['revenue'].head(10).plot(kind='bar')  # Группируем по суммарной выручке\n",
        "plt.show()"
      ],
      "metadata": {
        "colab": {
          "base_uri": "https://localhost:8080/",
          "height": 582
        },
        "id": "hXZE9gCSBHPB",
        "outputId": "93e53b00-4fe4-444f-943a-fa771effa43f"
      },
      "execution_count": null,
      "outputs": [
        {
          "output_type": "display_data",
          "data": {
            "text/plain": [
              "<Figure size 640x480 with 1 Axes>"
            ],
            "image/png": "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\n"
          },
          "metadata": {}
        }
      ]
    },
    {
      "cell_type": "markdown",
      "source": [
        "Гипотезу №2 можно считать подтверждённой."
      ],
      "metadata": {
        "id": "t9pJG9wudCzQ"
      }
    },
    {
      "cell_type": "markdown",
      "source": [
        "Гипотеза 3: Известные актеры снимаются в самыx дорогих фильмах"
      ],
      "metadata": {
        "id": "OWpKG5rrd2BE"
      }
    },
    {
      "cell_type": "code",
      "source": [
        "df_merge = df.merge(df_credits, on='id') # Объеденяем датасеты movies_metadata.csv и credits.csv\n",
        "df_merge['cast'] = df_merge['cast'].apply(ast.literal_eval) # Строку в словарь\n",
        "def get_name(x):\n",
        "    for i in x:\n",
        "        if i['name']:\n",
        "            return i['name']\n",
        "    return np.nan\n",
        "\n",
        "df_merge['name'] = df_merge['cast'].apply(get_name)  # Создаём новую колонку которая будет включать  имена актёров\n",
        "df_merge = df_merge[['name', 'id','original_title','budget']]  # Фильтруем данные\n",
        "df_merge.info()"
      ],
      "metadata": {
        "id": "W47irO4fd7J_",
        "colab": {
          "base_uri": "https://localhost:8080/"
        },
        "outputId": "46aa09c6-2d95-4fbb-8614-81986197e76d"
      },
      "execution_count": null,
      "outputs": [
        {
          "output_type": "stream",
          "name": "stdout",
          "text": [
            "<class 'pandas.core.frame.DataFrame'>\n",
            "RangeIndex: 45538 entries, 0 to 45537\n",
            "Data columns (total 4 columns):\n",
            " #   Column          Non-Null Count  Dtype \n",
            "---  ------          --------------  ----- \n",
            " 0   name            43118 non-null  object\n",
            " 1   id              45538 non-null  int64 \n",
            " 2   original_title  45538 non-null  object\n",
            " 3   budget          45538 non-null  object\n",
            "dtypes: int64(1), object(3)\n",
            "memory usage: 1.4+ MB\n"
          ]
        }
      ]
    },
    {
      "cell_type": "code",
      "source": [
        "df_merge['budget'] = df_merge['budget'].astype('int') # установим тип int\n",
        "\n",
        "plt.title('Актёры сгруппированные по бюджету фильмов')\n",
        "df_merge.groupby('name').sum().sort_values('budget', ascending=False)['budget'].head(10).plot(kind='bar')  # Группируем по суммарной выручке\n",
        "df_merge\n",
        "plt.show()"
      ],
      "metadata": {
        "id": "zzEtUuZgfJ_v",
        "colab": {
          "base_uri": "https://localhost:8080/",
          "height": 592
        },
        "outputId": "5da3ff62-06d6-4bc3-8ca2-480e2d4c67d3"
      },
      "execution_count": null,
      "outputs": [
        {
          "output_type": "display_data",
          "data": {
            "text/plain": [
              "<Figure size 640x480 with 1 Axes>"
            ],
            "image/png": "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\n"
          },
          "metadata": {}
        }
      ]
    },
    {
      "cell_type": "markdown",
      "source": [
        "Гипотезу №3 можно считать подтверждённой."
      ],
      "metadata": {
        "id": "np6a-0TFhRPm"
      }
    }
  ]
}
