{
  "nbformat": 4,
  "nbformat_minor": 0,
  "metadata": {
    "colab": {
      "provenance": [],
      "include_colab_link": true
    },
    "kernelspec": {
      "name": "python3",
      "display_name": "Python 3"
    },
    "language_info": {
      "name": "python"
    }
  },
  "cells": [
    {
      "cell_type": "markdown",
      "metadata": {
        "id": "view-in-github",
        "colab_type": "text"
      },
      "source": [
        "<a href=\"https://colab.research.google.com/github/Valeriy1990/Data_science/blob/main/%D0%9F%D0%BE%D0%B8%D1%81%D0%BA%2C_%D1%81%D0%B1%D0%BE%D1%80_%D0%B8_%D0%BF%D0%B5%D1%80%D0%B2%D0%B8%D1%87%D0%BD%D0%B0%D1%8F_%D0%BE%D0%B1%D1%80%D0%B0%D0%B1%D0%BE%D1%82%D0%BA%D0%B0_%D0%B4%D0%B0%D0%BD%D0%BD%D1%8B%D1%85.ipynb\" target=\"_parent\"><img src=\"https://colab.research.google.com/assets/colab-badge.svg\" alt=\"Open In Colab\"/></a>"
      ]
    },
    {
      "cell_type": "markdown",
      "source": [
        "## Веб-скрейпинг"
      ],
      "metadata": {
        "id": "fYuUjIDDMoVM"
      }
    },
    {
      "cell_type": "code",
      "source": [
        "!pip install beautifulsoup4 requests html5lib #установим недостающие библиотеки"
      ],
      "metadata": {
        "colab": {
          "base_uri": "https://localhost:8080/"
        },
        "id": "mMtD_wg2yc7m",
        "outputId": "022ce3bc-3f1b-4fc7-eeac-8a8cd484780d"
      },
      "execution_count": 1,
      "outputs": [
        {
          "output_type": "stream",
          "name": "stdout",
          "text": [
            "Requirement already satisfied: beautifulsoup4 in /usr/local/lib/python3.11/dist-packages (4.13.4)\n",
            "Requirement already satisfied: requests in /usr/local/lib/python3.11/dist-packages (2.32.3)\n",
            "Requirement already satisfied: html5lib in /usr/local/lib/python3.11/dist-packages (1.1)\n",
            "Requirement already satisfied: soupsieve>1.2 in /usr/local/lib/python3.11/dist-packages (from beautifulsoup4) (2.7)\n",
            "Requirement already satisfied: typing-extensions>=4.0.0 in /usr/local/lib/python3.11/dist-packages (from beautifulsoup4) (4.14.1)\n",
            "Requirement already satisfied: charset-normalizer<4,>=2 in /usr/local/lib/python3.11/dist-packages (from requests) (3.4.2)\n",
            "Requirement already satisfied: idna<4,>=2.5 in /usr/local/lib/python3.11/dist-packages (from requests) (3.10)\n",
            "Requirement already satisfied: urllib3<3,>=1.21.1 in /usr/local/lib/python3.11/dist-packages (from requests) (2.5.0)\n",
            "Requirement already satisfied: certifi>=2017.4.17 in /usr/local/lib/python3.11/dist-packages (from requests) (2025.8.3)\n",
            "Requirement already satisfied: six>=1.9 in /usr/local/lib/python3.11/dist-packages (from html5lib) (1.17.0)\n",
            "Requirement already satisfied: webencodings in /usr/local/lib/python3.11/dist-packages (from html5lib) (0.5.1)\n"
          ]
        }
      ]
    },
    {
      "cell_type": "code",
      "source": [
        "from bs4 import BeautifulSoup\n",
        "import requests\n",
        "\n",
        "# Получим с сайта RBС топ свежих новостей\n",
        "\n",
        "url = (\"https://rbc.ru/\") # Зададим адрес новостного сайта для GET-запроса библиотеки requests\n",
        "html = requests.get(url).text # Извлекаем из тела ответа текстовые данные\n",
        "soup = BeautifulSoup(html, 'html5lib') # Применяем к данным анализатор html5lib\n",
        "\n",
        "top_news = soup.find_all('a', class_='main__feed__link') # В дереве данных ищем все гиперссылки 'a' с классом 'main__feed__link'\n",
        "filteredNews = []\n",
        "\n",
        "for data in top_news: # Перебираем все найденные ссылки на новости\n",
        "    if data.find('span', class_='main__feed__title') is not None: # внутри ссылок ищем тег 'span' с классом 'main__feed__title'\n",
        "        filteredNews.append(data.text.strip()) # Извлекаем текст, очищенный от пробельных символов\n",
        "\n",
        "\n",
        "for i, news in enumerate(filteredNews): # enumerate - возвращает кортеж из индекса и самого значения: (index, filteredNews[index] )\n",
        "    print(i+1, news)\n"
      ],
      "metadata": {
        "colab": {
          "base_uri": "https://localhost:8080/"
        },
        "id": "qWLGcbAkzB4L",
        "outputId": "579c5d9b-a93b-462c-93ec-b882f59cce03"
      },
      "execution_count": 2,
      "outputs": [
        {
          "output_type": "stream",
          "name": "stdout",
          "text": [
            "1 Узнать за две минуты. Что сказал Трамп о встрече с Путиным по Украине\n",
            "2 Трамп заявил о генерале, из-за которого танки России не оказались в Киеве\n",
            "3 Трамп объявил о вводе войск в Вашингтон\n",
            "4 Почему в Китае снова начались чистки руководства\n",
            "5 В Госдуме назвали утопией идею запретить звонки через WhatsApp и Telegram\n",
            "6 Зеленский связал отмену санкций против России с гарантиями\n",
            "7 «Cерьезно штормит»: насколько дефицит бюджета рискует превысить план⁠\n",
            "8 Трамп заявил о обмене землями во время переговоров по Украине\n",
            "9 Бедный Louis Vuitton: почему холдинг Арно потерял €200 млрд капитализации⁠\n",
            "10 Сборная России сыграет товарищеские матчи с Чили и Перу\n",
            "11 Беглов запретил мигрантам работать курьерами в Петербурге\n",
            "12 Встречи с Синатрой и новый Lincoln: как советские лидеры ездили в Америку⁠\n",
            "13 Как СЕО Google DeepMind ищет лекарство от рака и деменции с помощью ИИ⁠\n",
            "14 Ставка ЦБ стала аргументом в суде. Как выйти из невыгодного договора⁠\n",
            "15 Трамп объявил, что едет в Россию⁠\n",
            "16 Бывшая Xerox в России занялась созданием собственной техники⁠Эксклюзив\n"
          ]
        }
      ]
    },
    {
      "cell_type": "markdown",
      "source": [
        "###Анализ web-страницы"
      ],
      "metadata": {
        "id": "XzThRZrXAJKb"
      }
    },
    {
      "cell_type": "markdown",
      "source": [
        "Проведем анализ страницы в русской версии википедии о ИИ:"
      ],
      "metadata": {
        "id": "zjiFO8T6byVB"
      }
    },
    {
      "cell_type": "code",
      "source": [
        "from bs4 import BeautifulSoup\n",
        "import requests\n",
        "\n",
        "# Добавим заголовок, чтобы Рувики воспринимала наш запрос как от браузера\n",
        "headers = { \"User-Agent\": \"Mozilla/5.0 (Windows NT 10.0; Win64; x64; rv:102.0) Gecko/20100101 Firefox/102.0\" }\n",
        "\n",
        "url = (\"https://ru.ruwiki.ru/wiki/Искусственный_интеллект\") # Зададим адрес сайта для GET-запроса библиотеки requests\n",
        "html = requests.get(url, headers=headers).text # Извлекаем из тела ответа текстовые данные\n",
        "soup = BeautifulSoup(html, 'html5lib') # Применяем к данным анализатор html5lib"
      ],
      "metadata": {
        "id": "I0RBhNUlcUJi"
      },
      "execution_count": 3,
      "outputs": []
    },
    {
      "cell_type": "markdown",
      "source": [
        "Исследуем заголовок страницы:"
      ],
      "metadata": {
        "id": "_9hYqPCEsqh_"
      }
    },
    {
      "cell_type": "code",
      "source": [
        "#Выводим заголовок сайта (тег title)\n",
        "soup.title"
      ],
      "metadata": {
        "colab": {
          "base_uri": "https://localhost:8080/"
        },
        "id": "B-Zm7-1wr7nb",
        "outputId": "94508d7b-4789-4962-c7d4-10a846b684b9"
      },
      "execution_count": 4,
      "outputs": [
        {
          "output_type": "execute_result",
          "data": {
            "text/plain": [
              "<title>Искусственный интеллект — Рувики: Интернет-энциклопедия</title>"
            ]
          },
          "metadata": {},
          "execution_count": 4
        }
      ]
    },
    {
      "cell_type": "code",
      "source": [
        "#Выводим имя тега заголовка\n",
        "soup.title.name"
      ],
      "metadata": {
        "colab": {
          "base_uri": "https://localhost:8080/",
          "height": 35
        },
        "id": "cvdxXmK1sGWS",
        "outputId": "9caadc16-c541-455e-a451-34e47ee60aed"
      },
      "execution_count": 5,
      "outputs": [
        {
          "output_type": "execute_result",
          "data": {
            "text/plain": [
              "'title'"
            ],
            "application/vnd.google.colaboratory.intrinsic+json": {
              "type": "string"
            }
          },
          "metadata": {},
          "execution_count": 5
        }
      ]
    },
    {
      "cell_type": "code",
      "source": [
        "#Выводим текст заголовка (текст содержится между парными тегами <title>)\n",
        "soup.title.text"
      ],
      "metadata": {
        "colab": {
          "base_uri": "https://localhost:8080/",
          "height": 35
        },
        "id": "iLAdq80DsSNr",
        "outputId": "a8a59506-6fc2-4fbb-de25-3db7acb9e85d"
      },
      "execution_count": 6,
      "outputs": [
        {
          "output_type": "execute_result",
          "data": {
            "text/plain": [
              "'Искусственный интеллект — Рувики: Интернет-энциклопедия'"
            ],
            "application/vnd.google.colaboratory.intrinsic+json": {
              "type": "string"
            }
          },
          "metadata": {},
          "execution_count": 6
        }
      ]
    },
    {
      "cell_type": "code",
      "source": [
        "#Выводим текст заголовка (другой способ)\n",
        "soup.title.string"
      ],
      "metadata": {
        "colab": {
          "base_uri": "https://localhost:8080/",
          "height": 35
        },
        "id": "NJ4Kqhf-sSKd",
        "outputId": "5e90ecff-5664-4b8d-f553-27c4692f72f0"
      },
      "execution_count": 7,
      "outputs": [
        {
          "output_type": "execute_result",
          "data": {
            "text/plain": [
              "'Искусственный интеллект — Рувики: Интернет-энциклопедия'"
            ],
            "application/vnd.google.colaboratory.intrinsic+json": {
              "type": "string"
            }
          },
          "metadata": {},
          "execution_count": 7
        }
      ]
    },
    {
      "cell_type": "markdown",
      "source": [
        "Исследуем абзацы первого уровня `h1`:"
      ],
      "metadata": {
        "id": "b_5EqZxYs4wb"
      }
    },
    {
      "cell_type": "code",
      "source": [
        "# Мы обращаемся к первому найденному тегу h1 (тег называется \"заголовок первого уровня\"), для перебора всех тегов нужно использовать find_all\n",
        "soup.h1"
      ],
      "metadata": {
        "colab": {
          "base_uri": "https://localhost:8080/"
        },
        "id": "VQFugzhzsSDx",
        "outputId": "e9dc5847-1e27-4b83-eae1-8dbee8677e5e"
      },
      "execution_count": 8,
      "outputs": [
        {
          "output_type": "execute_result",
          "data": {
            "text/plain": [
              "<h1 class=\"firstHeading mw-first-heading\" id=\"firstHeading\"><span class=\"mw-page-title-main\">Искусственный интеллект</span></h1>"
            ]
          },
          "metadata": {},
          "execution_count": 8
        }
      ]
    },
    {
      "cell_type": "code",
      "source": [
        "# Получение текста внутри тега\n",
        "soup.h1.string"
      ],
      "metadata": {
        "colab": {
          "base_uri": "https://localhost:8080/",
          "height": 35
        },
        "id": "HizxckkEsSAh",
        "outputId": "604b7411-8a21-4204-f5d0-8e906b252bc7"
      },
      "execution_count": 9,
      "outputs": [
        {
          "output_type": "execute_result",
          "data": {
            "text/plain": [
              "'Искусственный интеллект'"
            ],
            "application/vnd.google.colaboratory.intrinsic+json": {
              "type": "string"
            }
          },
          "metadata": {},
          "execution_count": 9
        }
      ]
    },
    {
      "cell_type": "code",
      "source": [
        "# Теги могут содержать атрибуты, получим список атрибутов тега h1\n",
        "soup.h1.attrs"
      ],
      "metadata": {
        "colab": {
          "base_uri": "https://localhost:8080/"
        },
        "id": "cUeUajxwlx0O",
        "outputId": "72401389-63e7-48a8-89b5-a9189327bc46"
      },
      "execution_count": 10,
      "outputs": [
        {
          "output_type": "execute_result",
          "data": {
            "text/plain": [
              "{'id': 'firstHeading', 'class': ['firstHeading', 'mw-first-heading']}"
            ]
          },
          "metadata": {},
          "execution_count": 10
        }
      ]
    },
    {
      "cell_type": "code",
      "source": [
        "#Теперь мы можем обратиться к атрибуту по имени class\n",
        "soup.h1['class']"
      ],
      "metadata": {
        "colab": {
          "base_uri": "https://localhost:8080/"
        },
        "id": "4_awtWqQtO73",
        "outputId": "519cdc4d-19f6-465a-c222-b6949da7a17c"
      },
      "execution_count": 11,
      "outputs": [
        {
          "output_type": "execute_result",
          "data": {
            "text/plain": [
              "['firstHeading', 'mw-first-heading']"
            ]
          },
          "metadata": {},
          "execution_count": 11
        }
      ]
    },
    {
      "cell_type": "code",
      "source": [
        "#Теперь мы можем обратиться к атрибуту по имени id\n",
        "soup.h1['id']"
      ],
      "metadata": {
        "colab": {
          "base_uri": "https://localhost:8080/",
          "height": 35
        },
        "id": "Q6A-PYaCsR2w",
        "outputId": "71c40d62-eeee-4bc3-afea-c1e24d5e8c6c"
      },
      "execution_count": 12,
      "outputs": [
        {
          "output_type": "execute_result",
          "data": {
            "text/plain": [
              "'firstHeading'"
            ],
            "application/vnd.google.colaboratory.intrinsic+json": {
              "type": "string"
            }
          },
          "metadata": {},
          "execution_count": 12
        }
      ]
    },
    {
      "cell_type": "code",
      "source": [
        "# Выводим текстовые значения всех заголовков второго уровня h2:\n",
        "for h2 in soup.find_all('h2'):\n",
        "    print(h2.text)"
      ],
      "metadata": {
        "colab": {
          "base_uri": "https://localhost:8080/"
        },
        "id": "1YWJl2NQur8G",
        "outputId": "48a516aa-9a41-4145-f63e-f477d28cfcaa"
      },
      "execution_count": 13,
      "outputs": [
        {
          "output_type": "stream",
          "name": "stdout",
          "text": [
            "Происхождение и смысл термина\n",
            "Развитие искусственного интеллекта как науки\n",
            "Подходы и направления\n",
            "Сложности в перспективе\n",
            "Современный искусственный интеллект\n",
            "Области применения искусственного интеллекта\n",
            "Связь с другими науками и явлениями культуры\n",
            "Регулирование использования ИИ компаниями\n",
            "Правовые вопросы\n",
            "Примечания\n",
            "Литература\n",
            "Ссылки\n"
          ]
        }
      ]
    },
    {
      "cell_type": "markdown",
      "source": [
        "Основной блок с содержимым страницы находится в классе \"mw-body-content\", с ним и будем экспериментировать:"
      ],
      "metadata": {
        "id": "ggBkPtpl7Xnl"
      }
    },
    {
      "cell_type": "code",
      "source": [
        "content = soup.find(\"div\", class_=\"mw-body-content\") # В теге с таким классом содержится"
      ],
      "metadata": {
        "id": "74bQNTxv4f-G"
      },
      "execution_count": 14,
      "outputs": []
    },
    {
      "cell_type": "code",
      "source": [
        "# получим дочерние элементы первого абзаца\n",
        "print(content.p.contents)"
      ],
      "metadata": {
        "colab": {
          "base_uri": "https://localhost:8080/"
        },
        "id": "yNbUZ4SV6y_5",
        "outputId": "2a924e38-bb07-4539-e9f3-6b3ae5d2fb64"
      },
      "execution_count": 15,
      "outputs": [
        {
          "output_type": "stream",
          "name": "stdout",
          "text": [
            "[<b>Иску́сственный интелле́кт</b>, ' (', <i>ИИ</i>, '; ', <a href=\"/wiki/%D0%90%D0%BD%D0%B3%D0%BB%D0%B8%D0%B9%D1%81%D0%BA%D0%B8%D0%B9_%D1%8F%D0%B7%D1%8B%D0%BA\" title=\"Английский язык\">англ.</a>, '\\xa0', <span lang=\"en\" style=\"font-style:italic;\">artificial intelligence, AI</span>, ')\\xa0— свойство искусственных ', <a href=\"/wiki/%D0%98%D0%BD%D1%82%D0%B5%D0%BB%D0%BB%D0%B5%D0%BA%D1%82%D1%83%D0%B0%D0%BB%D1%8C%D0%BD%D0%B0%D1%8F_%D1%81%D0%B8%D1%81%D1%82%D0%B5%D0%BC%D0%B0\" title=\"Интеллектуальная система\">интеллектуальных систем</a>, ' выполнять ', <a href=\"/wiki/%D0%A2%D0%B2%D0%BE%D1%80%D1%87%D0%B5%D1%81%D1%82%D0%B2%D0%BE\" title=\"Творчество\">творческие</a>, ' функции, которые традиционно считаются прерогативой человека', <sup class=\"reference\" id=\"cite_ref-RAAI_1-0\"><a href=\"#cite_note-RAAI-1\">[1]</a></sup>, ' (не следует путать с искусственным сознанием); ', <a href=\"/wiki/%D0%9D%D0%B0%D1%83%D0%BA%D0%B0\" title=\"Наука\">наука</a>, ' и ', <a href=\"/wiki/%D0%A2%D0%B5%D1%85%D0%BD%D0%BE%D0%BB%D0%BE%D0%B3%D0%B8%D1%8F\" title=\"Технология\">технология</a>, ' создания интеллектуальных машин, особенно интеллектуальных ', <a href=\"/wiki/%D0%9A%D0%BE%D0%BC%D0%BF%D1%8C%D1%8E%D1%82%D0%B5%D1%80%D0%BD%D0%B0%D1%8F_%D0%BF%D1%80%D0%BE%D0%B3%D1%80%D0%B0%D0%BC%D0%BC%D0%B0\" title=\"Компьютерная программа\">компьютерных программ</a>, '.\\n']\n"
          ]
        }
      ]
    },
    {
      "cell_type": "code",
      "source": [
        "#получим дочерние элементы другим методом\n",
        "print(content.p.children)"
      ],
      "metadata": {
        "colab": {
          "base_uri": "https://localhost:8080/"
        },
        "id": "h5KsNxxW8PvM",
        "outputId": "4ce461d0-71f5-4ad8-f0f5-f505e1e128d2"
      },
      "execution_count": 16,
      "outputs": [
        {
          "output_type": "stream",
          "name": "stdout",
          "text": [
            "<generator object Tag.children.<locals>.<genexpr> at 0x7dc9aa828930>\n"
          ]
        }
      ]
    },
    {
      "cell_type": "code",
      "source": [
        "from bs4 import BeautifulSoup\n",
        "import requests\n",
        "\n",
        "# Добавим заголовок, чтобы Рувики воспринимала наш запрос как от браузера\n",
        "headers = { \"User-Agent\": \"Mozilla/5.0 (Windows NT 10.0; Win64; x64; rv:102.0) Gecko/20100101 Firefox/102.0\" }\n",
        "\n",
        "url = (\"https://ru.ruwiki.ru/wiki/Искусственный_интеллект\") # Зададим адрес сайта для GET-запроса библиотеки requests\n",
        "html = requests.get(url, headers=headers).text # Извлекаем из тела ответа текстовые данные\n",
        "soup = BeautifulSoup(html, 'html5lib') # Применяем к данным анализатор html5lib\n",
        "\n",
        "content = soup.find(\"div\", class_=\"mw-body-content\") # В теге с таким классом содержится"
      ],
      "metadata": {
        "id": "3PqAHeMIHo4R"
      },
      "execution_count": 17,
      "outputs": []
    },
    {
      "cell_type": "code",
      "source": [
        "print(content.parent.div)"
      ],
      "metadata": {
        "id": "xKs6KgWzH-gh",
        "colab": {
          "base_uri": "https://localhost:8080/"
        },
        "outputId": "a50b84ef-4543-4ec5-8787-12a19a9a373e"
      },
      "execution_count": 18,
      "outputs": [
        {
          "output_type": "stream",
          "name": "stdout",
          "text": [
            "<div class=\"ruwiki-body-before-content\">\n",
            "\t\t\t\t\t\t\t\t\n",
            "\t\t\t\t\t\t\t\t\t<div class=\"noprint\" id=\"siteSub\">Материал из РУВИКИ — свободной энциклопедии</div>\n",
            "\t\t\t\t\t\t\t\t</div>\n"
          ]
        }
      ]
    },
    {
      "cell_type": "markdown",
      "source": [
        "##Используем API"
      ],
      "metadata": {
        "id": "cAGdzbyBMsDt"
      }
    },
    {
      "cell_type": "code",
      "source": [
        "!pip install python-dateutil # устанавливаем библиотеку для работы с датами"
      ],
      "metadata": {
        "colab": {
          "base_uri": "https://localhost:8080/"
        },
        "id": "gmWcmR0mzYpm",
        "outputId": "8bd4c36f-4dd5-4957-d40d-ecae1748c192"
      },
      "execution_count": 19,
      "outputs": [
        {
          "output_type": "stream",
          "name": "stdout",
          "text": [
            "Requirement already satisfied: python-dateutil in /usr/local/lib/python3.11/dist-packages (2.9.0.post0)\n",
            "Requirement already satisfied: six>=1.5 in /usr/local/lib/python3.11/dist-packages (from python-dateutil) (1.17.0)\n"
          ]
        }
      ]
    },
    {
      "cell_type": "code",
      "source": [
        "import requests, json # Импортируем библиотеку requests для HTTP-запросов и библиотеку json - для работы в формате JSON\n",
        "from dateutil.parser import parse # Импортируем парсер дат, позволяет даты из текстового формата преобразовать в формат datetime\n",
        "\n",
        "github_user = \"realpython\" # Имя пользователя на гитхабе, можете использовать свое\n",
        "\n",
        "endpoint = f\"https://api.github.com/users/{github_user}/repos\"\n",
        "repos = json.loads(requests.get(endpoint).text)\n",
        "\n",
        "repositories = sorted(repos, key=lambda r: r[\"created_at\"], reverse=True) [:5]\n",
        "\n",
        "for repo in repositories: #\n",
        "    print('Репозиторий', repo['name'], 'создан', parse(repo['created_at']).strftime(\"%d.%m.%Y\"), ' - ', repo['language'])"
      ],
      "metadata": {
        "colab": {
          "base_uri": "https://localhost:8080/"
        },
        "id": "SYMjnTsXb3T0",
        "outputId": "3805b227-4f93-4f00-d429-36682c9c2602"
      },
      "execution_count": 20,
      "outputs": [
        {
          "output_type": "stream",
          "name": "stdout",
          "text": [
            "Репозиторий data-repos создан 20.01.2023  -  Python\n",
            "Репозиторий data-version-control создан 21.07.2020  -  Python\n",
            "Репозиторий django-receipts создан 02.04.2020  -  Python\n",
            "Репозиторий codetiming создан 28.07.2019  -  Python\n",
            "Репозиторий author-tools создан 29.10.2018  -  TypeScript\n"
          ]
        }
      ]
    },
    {
      "cell_type": "markdown",
      "source": [
        "Если мы хотим получить список дат всех репозиториев, то можно воспользоваться генератором списков:"
      ],
      "metadata": {
        "id": "zUjiOeLqXnjP"
      }
    },
    {
      "cell_type": "code",
      "source": [
        "dates = [parse(repo[\"created_at\"]) for repo in repos] # генератор списков, краткая запись цикла, результат записывается в виде списка в переменную dates\n",
        "print(dates)"
      ],
      "metadata": {
        "colab": {
          "base_uri": "https://localhost:8080/"
        },
        "id": "2kfT2WCPXi9N",
        "outputId": "fc00d5ca-cfaa-4a77-b1a8-163d324e2fc0"
      },
      "execution_count": 21,
      "outputs": [
        {
          "output_type": "stream",
          "name": "stdout",
          "text": [
            "[datetime.datetime(2014, 3, 26, 5, 6, 57, tzinfo=tzlocal()), datetime.datetime(2015, 4, 6, 17, 54, 46, tzinfo=tzlocal()), datetime.datetime(2017, 8, 28, 2, 24, 35, tzinfo=tzlocal()), datetime.datetime(2018, 10, 29, 22, 37, 28, tzinfo=tzlocal()), datetime.datetime(2016, 12, 28, 1, 40, 8, tzinfo=tzlocal()), datetime.datetime(2017, 9, 20, 14, 14, 30, tzinfo=tzlocal()), datetime.datetime(2014, 3, 10, 18, 9, 48, tzinfo=tzlocal()), datetime.datetime(2014, 3, 10, 18, 14, 30, tzinfo=tzlocal()), datetime.datetime(2014, 2, 26, 15, 55, 43, tzinfo=tzlocal()), datetime.datetime(2019, 7, 28, 18, 54, 10, tzinfo=tzlocal()), datetime.datetime(2015, 1, 21, 16, 28, 25, tzinfo=tzlocal()), datetime.datetime(2015, 6, 29, 4, 21, 48, tzinfo=tzlocal()), datetime.datetime(2023, 1, 20, 14, 56, 24, tzinfo=tzlocal()), datetime.datetime(2020, 7, 21, 13, 22, 47, tzinfo=tzlocal()), datetime.datetime(2014, 12, 3, 16, 24, 4, tzinfo=tzlocal()), datetime.datetime(2014, 6, 3, 17, 1, 36, tzinfo=tzlocal()), datetime.datetime(2016, 11, 29, 21, 11, 47, tzinfo=tzlocal()), datetime.datetime(2014, 9, 8, 20, 18, 10, tzinfo=tzlocal()), datetime.datetime(2014, 9, 14, 16, 6, 38, tzinfo=tzlocal()), datetime.datetime(2017, 2, 28, 1, 39, 32, tzinfo=tzlocal()), datetime.datetime(2014, 8, 25, 15, 53, 57, tzinfo=tzlocal()), datetime.datetime(2017, 5, 2, 13, 20, 27, tzinfo=tzlocal()), datetime.datetime(2020, 4, 2, 0, 41, 43, tzinfo=tzlocal()), datetime.datetime(2016, 9, 19, 21, 41, 10, tzinfo=tzlocal()), datetime.datetime(2014, 6, 2, 2, 10, 20, tzinfo=tzlocal()), datetime.datetime(2014, 11, 10, 14, 46, 24, tzinfo=tzlocal()), datetime.datetime(2015, 12, 27, 0, 11, 37, tzinfo=tzlocal()), datetime.datetime(2016, 1, 15, 3, 48, 16, tzinfo=tzlocal()), datetime.datetime(2014, 11, 4, 0, 24, 28, tzinfo=tzlocal()), datetime.datetime(2015, 5, 18, 3, 5, 34, tzinfo=tzlocal())]\n"
          ]
        }
      ]
    },
    {
      "cell_type": "code",
      "source": [
        "print('Форматируем дату:', dates[0].strftime(\"%d.%m.%Y\"))\n",
        "print('Форматируем дату в другой формат:', dates[0].strftime(\"%H:%M:%S %b %d %Y\"))\n",
        "print('Выводим день:', dates[0].day)\n",
        "print('Выводим месяц:', dates[0].month)\n",
        "print('Выводим год:', dates[0].year)\n",
        "print('Выводим час:', dates[0].hour)\n",
        "print('Выводим минуту:', dates[0].minute)\n",
        "print('Выводим секунду:', dates[0].second)\n",
        "print('Выводим микросекунду:', dates[0].microsecond)\n"
      ],
      "metadata": {
        "colab": {
          "base_uri": "https://localhost:8080/"
        },
        "id": "dFIN0lvt5EEu",
        "outputId": "a9561271-1b25-455c-bfc5-1df82d030ddd"
      },
      "execution_count": 22,
      "outputs": [
        {
          "output_type": "stream",
          "name": "stdout",
          "text": [
            "Форматируем дату: 26.03.2014\n",
            "Форматируем дату в другой формат: 05:06:57 Mar 26 2014\n",
            "Выводим день: 26\n",
            "Выводим месяц: 3\n",
            "Выводим год: 2014\n",
            "Выводим час: 5\n",
            "Выводим минуту: 6\n",
            "Выводим секунду: 57\n",
            "Выводим микросекунду: 0\n"
          ]
        }
      ]
    }
  ]
}