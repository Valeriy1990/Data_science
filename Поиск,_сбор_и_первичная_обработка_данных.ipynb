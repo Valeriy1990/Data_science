{
  "nbformat": 4,
  "nbformat_minor": 0,
  "metadata": {
    "colab": {
      "provenance": [],
      "include_colab_link": true
    },
    "kernelspec": {
      "name": "python3",
      "display_name": "Python 3"
    },
    "language_info": {
      "name": "python"
    }
  },
  "cells": [
    {
      "cell_type": "markdown",
      "metadata": {
        "id": "view-in-github",
        "colab_type": "text"
      },
      "source": [
        "<a href=\"https://colab.research.google.com/github/Valeriy1990/Data_science/blob/main/%D0%9F%D0%BE%D0%B8%D1%81%D0%BA%2C_%D1%81%D0%B1%D0%BE%D1%80_%D0%B8_%D0%BF%D0%B5%D1%80%D0%B2%D0%B8%D1%87%D0%BD%D0%B0%D1%8F_%D0%BE%D0%B1%D1%80%D0%B0%D0%B1%D0%BE%D1%82%D0%BA%D0%B0_%D0%B4%D0%B0%D0%BD%D0%BD%D1%8B%D1%85.ipynb\" target=\"_parent\"><img src=\"https://colab.research.google.com/assets/colab-badge.svg\" alt=\"Open In Colab\"/></a>"
      ]
    },
    {
      "cell_type": "markdown",
      "source": [
        "##Текстовые файлы"
      ],
      "metadata": {
        "id": "F_iNM6OHMPK5"
      }
    },
    {
      "cell_type": "code",
      "source": [
        "file = open(\"input.txt\", \"w\") # мы открыли файл для записи, если он уже создан, то будет перезаписан\n",
        "# Для работы с многострочным текстом, его необходимо заключить в тройные одинарные кавычки.\n",
        "\n",
        "text = '''Это первая строка!\\n\n",
        "Это третья строка!\\n\n",
        "Это пятая строка!\\n\n",
        "Это седьмая строка!'''\n",
        "# мы получили в переменную file дескриптор файла (ссылку на файл) и теперь по нему можем работать с файлом\n",
        "file.write(text) # Записываем текст целиком в файл\n",
        "file.close() # Закрываем файл"
      ],
      "metadata": {
        "id": "DjtHXmeOOO46"
      },
      "execution_count": null,
      "outputs": []
    },
    {
      "cell_type": "markdown",
      "source": [
        "Теперь файл сохранен в рабочей директории проекта, чтобы узнать эту директорию, достаточно выполнить функцию **getcwd()** из пакета **os**:"
      ],
      "metadata": {
        "id": "R0_E_6sqUjCv"
      }
    },
    {
      "cell_type": "code",
      "source": [
        "import os\n",
        "print(os.getcwd())"
      ],
      "metadata": {
        "colab": {
          "base_uri": "https://localhost:8080/"
        },
        "id": "PcAF4pweU1Tq",
        "outputId": "ce65d56d-83f7-41dd-923d-e9ecf17d5eb5"
      },
      "execution_count": null,
      "outputs": [
        {
          "output_type": "stream",
          "name": "stdout",
          "text": [
            "/content\n"
          ]
        }
      ]
    },
    {
      "cell_type": "markdown",
      "source": [
        "Теперь выведем содержание файла на экран и проанализируем его:"
      ],
      "metadata": {
        "id": "uwbMMS-yVwR3"
      }
    },
    {
      "cell_type": "code",
      "source": [
        "file = open(\"input.txt\", \"r\") # Теперь мы открываем файл для чтения\n",
        "\n",
        "lines = file.readlines() # Извлекаем целиком текст из файла\n",
        "print(f'Файл содержит {len(lines)} строк:')\n",
        "for line in lines: # пробегаем по всем строчкам файла\n",
        "    print(line)\n",
        "\n",
        "# Закрываем файл\n",
        "file.close()"
      ],
      "metadata": {
        "colab": {
          "base_uri": "https://localhost:8080/"
        },
        "id": "HDxa42jySxot",
        "outputId": "99b81711-0d1b-4775-dc46-ee1d8426acf6"
      },
      "execution_count": null,
      "outputs": [
        {
          "output_type": "stream",
          "name": "stdout",
          "text": [
            "Файл содержит 7 строк:\n",
            "Это первая строка!\n",
            "\n",
            "\n",
            "\n",
            "Это третья строка!\n",
            "\n",
            "\n",
            "\n",
            "Это пятая строка!\n",
            "\n",
            "\n",
            "\n",
            "Это седьмая строка!\n"
          ]
        }
      ]
    },
    {
      "cell_type": "code",
      "source": [
        "with open(\"input.txt\", 'a') as file:  # Откроем файл в режиме \"а\" (append) - добавления\n",
        "    file.write('\\nЭто восьмая строчка')\n",
        "\n",
        "# в этой точке file уже закрыт, поэтому не пытайтесь использовать его\n",
        "# file.close()"
      ],
      "metadata": {
        "id": "VsjN3RSueIbv"
      },
      "execution_count": null,
      "outputs": []
    },
    {
      "cell_type": "code",
      "source": [
        "with open(\"input.txt\", \"r\") as file:  # Открываем файл для чтения\n",
        "    read_file = file.read() # Извлекаем целиком текст из файла как одну длинную строку\n",
        "    print(read_file)"
      ],
      "metadata": {
        "colab": {
          "base_uri": "https://localhost:8080/"
        },
        "id": "UHI266qSfNY8",
        "outputId": "00563c7d-74de-46ec-c28c-388ad7a3658c"
      },
      "execution_count": null,
      "outputs": [
        {
          "output_type": "stream",
          "name": "stdout",
          "text": [
            "Это первая строка!\n",
            "\n",
            "Это третья строка!\n",
            "\n",
            "Это пятая строка!\n",
            "\n",
            "Это седьмая строка!\n",
            "Это восьмая строчка\n"
          ]
        }
      ]
    },
    {
      "cell_type": "code",
      "source": [
        "with open(\"input.txt\", \"r\") as file:  # Открываем файл для чтения\n",
        "    read_line = file.readline() # Извлекаем одну строку\n",
        "    print(read_line) # в выводе появляется пустая строка за счет (\\n)\n",
        "\n",
        "    print(read_line.rstrip()) # удаляем перенос строки с помощью метода rstrip()"
      ],
      "metadata": {
        "colab": {
          "base_uri": "https://localhost:8080/"
        },
        "id": "1NNcn0pbkysz",
        "outputId": "e6fd7024-092e-4b18-f27d-48564ea427c9"
      },
      "execution_count": null,
      "outputs": [
        {
          "output_type": "stream",
          "name": "stdout",
          "text": [
            "Это первая строка!\n",
            "\n",
            "Это первая строка!\n"
          ]
        }
      ]
    },
    {
      "cell_type": "code",
      "source": [
        "with open(\"input.txt\", \"r\") as file:  # Открываем файл для чтения\n",
        "    read_lines = file.readlines() # Извлекаем целиком текст из файла как список\n",
        "    print(f'Файл содержит {len(read_lines)} строк:')\n",
        "    print(read_lines)"
      ],
      "metadata": {
        "colab": {
          "base_uri": "https://localhost:8080/"
        },
        "id": "cgJ6GTG9knim",
        "outputId": "2f0fef39-398d-4878-fcea-eb9a8f396723"
      },
      "execution_count": null,
      "outputs": [
        {
          "output_type": "stream",
          "name": "stdout",
          "text": [
            "Файл содержит 8 строк:\n",
            "['Это первая строка!\\n', '\\n', 'Это третья строка!\\n', '\\n', 'Это пятая строка!\\n', '\\n', 'Это седьмая строка!\\n', 'Это восьмая строчка']\n"
          ]
        }
      ]
    },
    {
      "cell_type": "markdown",
      "source": [
        "## Веб-скрейпинг"
      ],
      "metadata": {
        "id": "fYuUjIDDMoVM"
      }
    },
    {
      "cell_type": "code",
      "source": [
        "!pip install beautifulsoup4 requests html5lib #установим недостающие библиотеки"
      ],
      "metadata": {
        "colab": {
          "base_uri": "https://localhost:8080/"
        },
        "id": "mMtD_wg2yc7m",
        "outputId": "6bd87244-86d6-4625-f9e0-22342d8a3cd6"
      },
      "execution_count": null,
      "outputs": [
        {
          "output_type": "stream",
          "name": "stdout",
          "text": [
            "Requirement already satisfied: beautifulsoup4 in /usr/local/lib/python3.10/dist-packages (4.11.2)\n",
            "Requirement already satisfied: requests in /usr/local/lib/python3.10/dist-packages (2.31.0)\n",
            "Requirement already satisfied: html5lib in /usr/local/lib/python3.10/dist-packages (1.1)\n",
            "Requirement already satisfied: soupsieve>1.2 in /usr/local/lib/python3.10/dist-packages (from beautifulsoup4) (2.5)\n",
            "Requirement already satisfied: charset-normalizer<4,>=2 in /usr/local/lib/python3.10/dist-packages (from requests) (3.3.1)\n",
            "Requirement already satisfied: idna<4,>=2.5 in /usr/local/lib/python3.10/dist-packages (from requests) (3.4)\n",
            "Requirement already satisfied: urllib3<3,>=1.21.1 in /usr/local/lib/python3.10/dist-packages (from requests) (2.0.7)\n",
            "Requirement already satisfied: certifi>=2017.4.17 in /usr/local/lib/python3.10/dist-packages (from requests) (2023.7.22)\n",
            "Requirement already satisfied: six>=1.9 in /usr/local/lib/python3.10/dist-packages (from html5lib) (1.16.0)\n",
            "Requirement already satisfied: webencodings in /usr/local/lib/python3.10/dist-packages (from html5lib) (0.5.1)\n"
          ]
        }
      ]
    },
    {
      "cell_type": "code",
      "source": [
        "from bs4 import BeautifulSoup\n",
        "import requests\n",
        "\n",
        "# Получим с сайта RBС топ свежих новостей\n",
        "\n",
        "url = (\"https://rbc.ru/\") # Зададим адрес новостного сайта для GET-запроса библиотеки requests\n",
        "html = requests.get(url).text # Извлекаем из тела ответа текстовые данные\n",
        "soup = BeautifulSoup(html, 'html5lib') # Применяем к данным анализатор html5lib\n",
        "\n",
        "top_news = soup.find_all('a', class_='main__feed__link') # В дереве данных ищем все гиперссылки 'a' с классом 'main__feed__link'\n",
        "filteredNews = []\n",
        "\n",
        "for data in top_news: # Перебираем все найденные ссылки на новости\n",
        "    if data.find('span', class_='main__feed__title') is not None: # внутри ссылок ищем тег 'span' с классом 'main__feed__title'\n",
        "        filteredNews.append(data.text.strip()) # Извлекаем текст, очищенный от пробельных символов\n",
        "\n",
        "\n",
        "for i, news in enumerate(filteredNews): # enumerate - возвращает кортеж из индекса и самого значения: (index, filteredNews[index] )\n",
        "    print(i+1, news)\n"
      ],
      "metadata": {
        "colab": {
          "base_uri": "https://localhost:8080/"
        },
        "id": "qWLGcbAkzB4L",
        "outputId": "2fd4b5db-0ecd-4d9a-959a-57bd5d25a2e1"
      },
      "execution_count": null,
      "outputs": [
        {
          "output_type": "stream",
          "name": "stdout",
          "text": [
            "1 В Дагестане арестовали семерых человек за беспорядки в аэропорту\n",
            "2 Мишустин сообщил о росте ВВП на 5% в сентябре и на 2,8% за девять месяцев\n",
            "3 Ущерб от беспорядков в аэропорту Махачкалы оценили минимум в ₽285 млн\n",
            "4 VK завершила редомициляцию. Что ждать от компании дальше\n",
            "5 Глава Carlsberg обвинил Россию в краже бизнеса\n",
            "6 Израиль сообщил об ожесточенных боях «в глубине» сектора Газа\n",
            "7 «Росатом» словами «вопросов нет» ответил на критику Лукашенко по БелАЭС\n",
            "8 Кремль исключил «свободный выход» западных компаний из России\n",
            "9 ФСБ сообщила о задержании воевавшего на стороне ВСУ россиянина\n",
            "10 Патрушев заявил об изменении роли параллельного импорта в экономике\n",
            "11 Силовики предупредили о проведении в Москве учений с бронетехникой\n",
            "12 Война Израиля и ХАМАС. Онлайн\n",
            "13 Военная операция на Украине. Онлайн\n",
            "14 Где выгоднее купить квартиру для инвестиций: в России или за рубежом\n",
            "15 Как продавать зумерам: история провала и возрождения Abercrombie & Fitch\n"
          ]
        }
      ]
    },
    {
      "cell_type": "markdown",
      "source": [
        "###Анализ web-страницы"
      ],
      "metadata": {
        "id": "XzThRZrXAJKb"
      }
    },
    {
      "cell_type": "markdown",
      "source": [
        "Проведем анализ страницы в русской версии википедии о ИИ:"
      ],
      "metadata": {
        "id": "zjiFO8T6byVB"
      }
    },
    {
      "cell_type": "code",
      "source": [
        "from bs4 import BeautifulSoup\n",
        "import requests\n",
        "\n",
        "# Добавим заголовок, чтобы Рувики воспринимала наш запрос как от браузера\n",
        "headers = { \"User-Agent\": \"Mozilla/5.0 (Windows NT 10.0; Win64; x64; rv:102.0) Gecko/20100101 Firefox/102.0\" }\n",
        "\n",
        "url = (\"https://ru.ruwiki.ru/wiki/Искусственный_интеллект\") # Зададим адрес сайта для GET-запроса библиотеки requests\n",
        "html = requests.get(url, headers=headers).text # Извлекаем из тела ответа текстовые данные\n",
        "soup = BeautifulSoup(html, 'html5lib') # Применяем к данным анализатор html5lib"
      ],
      "metadata": {
        "id": "I0RBhNUlcUJi"
      },
      "execution_count": null,
      "outputs": []
    },
    {
      "cell_type": "markdown",
      "source": [
        "Исследуем заголовок страницы:"
      ],
      "metadata": {
        "id": "_9hYqPCEsqh_"
      }
    },
    {
      "cell_type": "code",
      "source": [
        "#Выводим заголовок сайта (тег title)\n",
        "soup.title"
      ],
      "metadata": {
        "colab": {
          "base_uri": "https://localhost:8080/"
        },
        "id": "B-Zm7-1wr7nb",
        "outputId": "66b78897-2ebc-4bcc-9207-94f537408206"
      },
      "execution_count": null,
      "outputs": [
        {
          "output_type": "execute_result",
          "data": {
            "text/plain": [
              "<title>Искусственный интеллект — РУВИКИ</title>"
            ]
          },
          "metadata": {},
          "execution_count": 22
        }
      ]
    },
    {
      "cell_type": "code",
      "source": [
        "#Выводим имя тега заголовка\n",
        "soup.title.name"
      ],
      "metadata": {
        "colab": {
          "base_uri": "https://localhost:8080/",
          "height": 35
        },
        "id": "cvdxXmK1sGWS",
        "outputId": "b544598e-5996-47f8-efea-a5fb3f94f0ec"
      },
      "execution_count": null,
      "outputs": [
        {
          "output_type": "execute_result",
          "data": {
            "text/plain": [
              "'title'"
            ],
            "application/vnd.google.colaboratory.intrinsic+json": {
              "type": "string"
            }
          },
          "metadata": {},
          "execution_count": 23
        }
      ]
    },
    {
      "cell_type": "code",
      "source": [
        "#Выводим текст заголовка (текст содержится между парными тегами <title>)\n",
        "soup.title.text"
      ],
      "metadata": {
        "colab": {
          "base_uri": "https://localhost:8080/",
          "height": 35
        },
        "id": "iLAdq80DsSNr",
        "outputId": "8fd9ea4b-cb50-4a23-8bd7-2f45d2dfddbb"
      },
      "execution_count": null,
      "outputs": [
        {
          "output_type": "execute_result",
          "data": {
            "text/plain": [
              "'Искусственный интеллект — РУВИКИ'"
            ],
            "application/vnd.google.colaboratory.intrinsic+json": {
              "type": "string"
            }
          },
          "metadata": {},
          "execution_count": 24
        }
      ]
    },
    {
      "cell_type": "code",
      "source": [
        "#Выводим текст заголовка (другой способ)\n",
        "soup.title.string"
      ],
      "metadata": {
        "colab": {
          "base_uri": "https://localhost:8080/",
          "height": 35
        },
        "id": "NJ4Kqhf-sSKd",
        "outputId": "25b8f5be-f845-4def-e81d-227b77a46290"
      },
      "execution_count": null,
      "outputs": [
        {
          "output_type": "execute_result",
          "data": {
            "text/plain": [
              "'Искусственный интеллект — РУВИКИ'"
            ],
            "application/vnd.google.colaboratory.intrinsic+json": {
              "type": "string"
            }
          },
          "metadata": {},
          "execution_count": 25
        }
      ]
    },
    {
      "cell_type": "markdown",
      "source": [
        "Исследуем абзацы первого уровня `h1`:"
      ],
      "metadata": {
        "id": "b_5EqZxYs4wb"
      }
    },
    {
      "cell_type": "code",
      "source": [
        "# Мы обращаемся к первому найденному тегу h1 (тег называется \"заголовок первого уровня\"), для перебора всех тегов нужно использовать find_all\n",
        "soup.h1"
      ],
      "metadata": {
        "colab": {
          "base_uri": "https://localhost:8080/"
        },
        "id": "VQFugzhzsSDx",
        "outputId": "d068e2ae-3994-420d-8305-4260137e9566"
      },
      "execution_count": null,
      "outputs": [
        {
          "output_type": "execute_result",
          "data": {
            "text/plain": [
              "<h1 class=\"firstHeading mw-first-heading\" id=\"firstHeading\"><span class=\"mw-page-title-main\">Искусственный интеллект</span></h1>"
            ]
          },
          "metadata": {},
          "execution_count": 26
        }
      ]
    },
    {
      "cell_type": "code",
      "source": [
        "# Получение текста внутри тега\n",
        "soup.h1.string"
      ],
      "metadata": {
        "colab": {
          "base_uri": "https://localhost:8080/",
          "height": 35
        },
        "id": "HizxckkEsSAh",
        "outputId": "04f1293e-f438-408b-a59f-73cfc1bead57"
      },
      "execution_count": null,
      "outputs": [
        {
          "output_type": "execute_result",
          "data": {
            "text/plain": [
              "'Искусственный интеллект'"
            ],
            "application/vnd.google.colaboratory.intrinsic+json": {
              "type": "string"
            }
          },
          "metadata": {},
          "execution_count": 27
        }
      ]
    },
    {
      "cell_type": "code",
      "source": [
        "# Теги могут содержать атрибуты, получим список атрибутов тега h1\n",
        "soup.h1.attrs"
      ],
      "metadata": {
        "colab": {
          "base_uri": "https://localhost:8080/"
        },
        "id": "cUeUajxwlx0O",
        "outputId": "7a39ac76-e0f5-4140-f23e-5f72ccc65572"
      },
      "execution_count": null,
      "outputs": [
        {
          "output_type": "execute_result",
          "data": {
            "text/plain": [
              "{'id': 'firstHeading', 'class': ['firstHeading', 'mw-first-heading']}"
            ]
          },
          "metadata": {},
          "execution_count": 28
        }
      ]
    },
    {
      "cell_type": "code",
      "source": [
        "#Теперь мы можем обратиться к атрибуту по имени class\n",
        "soup.h1['class']"
      ],
      "metadata": {
        "colab": {
          "base_uri": "https://localhost:8080/"
        },
        "id": "4_awtWqQtO73",
        "outputId": "1be4e65c-a3c9-4620-80ec-e9581ce22fcf"
      },
      "execution_count": null,
      "outputs": [
        {
          "output_type": "execute_result",
          "data": {
            "text/plain": [
              "['firstHeading', 'mw-first-heading']"
            ]
          },
          "metadata": {},
          "execution_count": 29
        }
      ]
    },
    {
      "cell_type": "code",
      "source": [
        "#Теперь мы можем обратиться к атрибуту по имени id\n",
        "soup.h1['id']"
      ],
      "metadata": {
        "colab": {
          "base_uri": "https://localhost:8080/",
          "height": 35
        },
        "id": "Q6A-PYaCsR2w",
        "outputId": "b9734dc1-bf70-4c5e-86c2-a31d0d7f7ad9"
      },
      "execution_count": null,
      "outputs": [
        {
          "output_type": "execute_result",
          "data": {
            "text/plain": [
              "'firstHeading'"
            ],
            "application/vnd.google.colaboratory.intrinsic+json": {
              "type": "string"
            }
          },
          "metadata": {},
          "execution_count": 30
        }
      ]
    },
    {
      "cell_type": "code",
      "source": [
        "# Выводим текстовые значения всех заголовков второго уровня h2:\n",
        "for h2 in soup.find_all('h2'):\n",
        "    print(h2.text)"
      ],
      "metadata": {
        "colab": {
          "base_uri": "https://localhost:8080/"
        },
        "id": "1YWJl2NQur8G",
        "outputId": "bb57b1d6-e5a9-45aa-e613-1b99701403f8"
      },
      "execution_count": null,
      "outputs": [
        {
          "output_type": "stream",
          "name": "stdout",
          "text": [
            "Содержание\n",
            "Происхождение и смысл термина[править | править код]\n",
            "Предпосылки развития науки искусственного интеллекта[править | править код]\n",
            "Подходы и направления[править | править код]\n",
            "Современный искусственный интеллект[править | править код]\n",
            "Области применения искусственного интеллекта[править | править код]\n",
            "Связь с другими науками и явлениями культуры[править | править код]\n",
            "Правовые вопросы[править | править код]\n",
            "См. также[править | править код]\n",
            "Примечания[править | править код]\n",
            "Литература[править | править код]\n",
            "Ссылки[править | править код]\n"
          ]
        }
      ]
    },
    {
      "cell_type": "markdown",
      "source": [
        "Основной блок с содержимым страницы находится в классе \"mw-body-content\", с ним и будем экспериментировать:"
      ],
      "metadata": {
        "id": "ggBkPtpl7Xnl"
      }
    },
    {
      "cell_type": "code",
      "source": [
        "content = soup.find(\"div\", class_=\"mw-body-content\") # В теге с таким классом содержится"
      ],
      "metadata": {
        "id": "74bQNTxv4f-G"
      },
      "execution_count": null,
      "outputs": []
    },
    {
      "cell_type": "code",
      "source": [
        "# получим дочерние элементы первого абзаца\n",
        "print(content.p.contents)"
      ],
      "metadata": {
        "colab": {
          "base_uri": "https://localhost:8080/"
        },
        "id": "yNbUZ4SV6y_5",
        "outputId": "cb479456-ba71-4787-f272-828dfb1fc951"
      },
      "execution_count": null,
      "outputs": [
        {
          "output_type": "stream",
          "name": "stdout",
          "text": [
            "[<b>Иску́сственный интелле́кт</b>, ' (', <i>ИИ</i>, '; ', <a href=\"/wiki/%D0%90%D0%BD%D0%B3%D0%BB%D0%B8%D0%B9%D1%81%D0%BA%D0%B8%D0%B9_%D1%8F%D0%B7%D1%8B%D0%BA\" title=\"Английский язык\">англ.</a>, '\\xa0', <span lang=\"en\" style=\"font-style:italic;\">artificial intelligence, AI</span>, ')\\xa0— свойство искусственных ', <a href=\"/wiki/%D0%98%D0%BD%D1%82%D0%B5%D0%BB%D0%BB%D0%B5%D0%BA%D1%82%D1%83%D0%B0%D0%BB%D1%8C%D0%BD%D0%B0%D1%8F_%D1%81%D0%B8%D1%81%D1%82%D0%B5%D0%BC%D0%B0\" title=\"Интеллектуальная система\">интеллектуальных систем</a>, ' выполнять ', <a href=\"/wiki/%D0%A2%D0%B2%D0%BE%D1%80%D1%87%D0%B5%D1%81%D1%82%D0%B2%D0%BE\" title=\"Творчество\">творческие</a>, ' функции, которые традиционно считаются прерогативой человека', <sup class=\"reference\" id=\"cite_ref-RAAI_1-0\"><a href=\"#cite_note-RAAI-1\">[1]</a></sup>, ' (не следует путать с ', <span data-interwiki-article=\"Artificial consciousness\" data-interwiki-lang=\"en\"><a class=\"new\" href=\"/w/index.php?title=%D0%98%D1%81%D0%BA%D1%83%D1%81%D1%81%D1%82%D0%B2%D0%B5%D0%BD%D0%BD%D0%BE%D0%B5_%D1%81%D0%BE%D0%B7%D0%BD%D0%B0%D0%BD%D0%B8%D0%B5&amp;action=edit&amp;redlink=1\" title=\"Искусственное сознание (страница отсутствует)\">искусственным сознанием</a></span>, <span class=\"noprint\" style=\"font-style:normal; font-weight:normal;\"><sup><a class=\"new\" href=\"/w/index.php?title=En:Artificial_consciousness&amp;action=edit&amp;redlink=1\" title=\"En:Artificial consciousness (страница отсутствует)\"><span title=\"Artificial consciousness — версия статьи «Искусственное сознание» на английском языке\">[en]</span></a></sup></span>, '); ', <a href=\"/wiki/%D0%9D%D0%B0%D1%83%D0%BA%D0%B0\" title=\"Наука\">наука</a>, ' и ', <a href=\"/wiki/%D0%A2%D0%B5%D1%85%D0%BD%D0%BE%D0%BB%D0%BE%D0%B3%D0%B8%D1%8F\" title=\"Технология\">технология</a>, ' создания интеллектуальных машин, особенно интеллектуальных ', <a href=\"/wiki/%D0%9A%D0%BE%D0%BC%D0%BF%D1%8C%D1%8E%D1%82%D0%B5%D1%80%D0%BD%D0%B0%D1%8F_%D0%BF%D1%80%D0%BE%D0%B3%D1%80%D0%B0%D0%BC%D0%BC%D0%B0\" title=\"Компьютерная программа\">компьютерных программ</a>, '.\\n']\n"
          ]
        }
      ]
    },
    {
      "cell_type": "code",
      "source": [
        "#получим дочерние элементы другим методом\n",
        "print(content.p.children)"
      ],
      "metadata": {
        "colab": {
          "base_uri": "https://localhost:8080/"
        },
        "id": "h5KsNxxW8PvM",
        "outputId": "8015eb78-41c6-4ce9-e8f3-89a02c9a894a"
      },
      "execution_count": null,
      "outputs": [
        {
          "output_type": "stream",
          "name": "stdout",
          "text": [
            "<list_iterator object at 0x7889ddc2b4f0>\n"
          ]
        }
      ]
    },
    {
      "cell_type": "markdown",
      "source": [
        "Как видно выше, значение потомков получено в виде итератора и перебирать их нужно циклом:"
      ],
      "metadata": {
        "id": "o4uNVfCU790y"
      }
    },
    {
      "cell_type": "code",
      "source": [
        "for child in content.p.children:\n",
        "    print(child.text)"
      ],
      "metadata": {
        "colab": {
          "base_uri": "https://localhost:8080/"
        },
        "id": "Aq_3_pqp7_I-",
        "outputId": "6bd6b75c-2535-49ba-a4e5-8e885ffc831d"
      },
      "execution_count": null,
      "outputs": [
        {
          "output_type": "stream",
          "name": "stdout",
          "text": [
            "Иску́сственный интелле́кт\n",
            " (\n",
            "ИИ\n",
            "; \n",
            "англ.\n",
            " \n",
            "artificial intelligence, AI\n",
            ") — свойство искусственных \n",
            "интеллектуальных систем\n",
            " выполнять \n",
            "творческие\n",
            " функции, которые традиционно считаются прерогативой человека\n",
            "[1]\n",
            " (не следует путать с \n",
            "искусственным сознанием\n",
            "[en]\n",
            "); \n",
            "наука\n",
            " и \n",
            "технология\n",
            " создания интеллектуальных машин, особенно интеллектуальных \n",
            "компьютерных программ\n",
            ".\n",
            "\n"
          ]
        }
      ]
    },
    {
      "cell_type": "code",
      "source": [
        "from bs4 import BeautifulSoup\n",
        "import requests\n",
        "\n",
        "# Добавим заголовок, чтобы Рувики воспринимала наш запрос как от браузера\n",
        "headers = { \"User-Agent\": \"Mozilla/5.0 (Windows NT 10.0; Win64; x64; rv:102.0) Gecko/20100101 Firefox/102.0\" }\n",
        "\n",
        "url = (\"https://ru.ruwiki.ru/wiki/Искусственный_интеллект\") # Зададим адрес сайта для GET-запроса библиотеки requests\n",
        "html = requests.get(url, headers=headers).text # Извлекаем из тела ответа текстовые данные\n",
        "soup = BeautifulSoup(html, 'html5lib') # Применяем к данным анализатор html5lib\n",
        "\n",
        "content = soup.find(\"div\", class_=\"mw-body-content\") # В теге с таким классом содержится"
      ],
      "metadata": {
        "id": "3PqAHeMIHo4R"
      },
      "execution_count": null,
      "outputs": []
    },
    {
      "cell_type": "code",
      "source": [
        "print(content.parent.div)"
      ],
      "metadata": {
        "id": "xKs6KgWzH-gh",
        "colab": {
          "base_uri": "https://localhost:8080/"
        },
        "outputId": "89a8f413-f246-4f18-af6b-1bebadcacf1a"
      },
      "execution_count": null,
      "outputs": [
        {
          "output_type": "stream",
          "name": "stdout",
          "text": [
            "<div class=\"yenisey-body-before-content\">\n",
            "\t\t\t\t\t\n",
            "\t\t\t\t\t\t<div class=\"noprint\" id=\"siteSub\">Материал из РУВИКИ — свободной энциклопедии</div>\n",
            "\t\t\t\t\t</div>\n"
          ]
        }
      ]
    },
    {
      "cell_type": "code",
      "source": [
        "tag_li = content.contents[0].find('li')\n",
        "# найдём элемент li - тег \"элемент списка\"\n",
        "print(tag_li)\n",
        "# запросом следующий элемент\n",
        "print(tag_li.next_elements)"
      ],
      "metadata": {
        "colab": {
          "base_uri": "https://localhost:8080/"
        },
        "id": "6YAjAMv0Plxu",
        "outputId": "8e101e7e-7208-4d82-86cc-e34b8ae09421"
      },
      "execution_count": null,
      "outputs": [
        {
          "output_type": "stream",
          "name": "stdout",
          "text": [
            "<li>Научное направление, в рамках которого ставятся и решаются задачи аппаратного или программного моделирования тех видов человеческой деятельности, которые традиционно считаются интеллектуальными<sup class=\"reference\" id=\"cite_ref-RAAI_1-1\"><a href=\"#cite_note-RAAI-1\">[1]</a></sup>.</li>\n",
            "<generator object PageElement.next_elements at 0x7889dcc5ace0>\n"
          ]
        }
      ]
    },
    {
      "cell_type": "markdown",
      "source": [
        "##Используем API"
      ],
      "metadata": {
        "id": "cAGdzbyBMsDt"
      }
    },
    {
      "cell_type": "code",
      "source": [
        "!pip install python-dateutil # устанавливаем библиотеку для работы с датами"
      ],
      "metadata": {
        "colab": {
          "base_uri": "https://localhost:8080/"
        },
        "id": "gmWcmR0mzYpm",
        "outputId": "475a214c-21aa-41a2-924c-6285d520fda3"
      },
      "execution_count": null,
      "outputs": [
        {
          "output_type": "stream",
          "name": "stdout",
          "text": [
            "Requirement already satisfied: python-dateutil in /usr/local/lib/python3.10/dist-packages (2.8.2)\n",
            "Requirement already satisfied: six>=1.5 in /usr/local/lib/python3.10/dist-packages (from python-dateutil) (1.16.0)\n"
          ]
        }
      ]
    },
    {
      "cell_type": "code",
      "source": [
        "import requests, json # Импортируем библиотеку requests для HTTP-запросов и библиотеку json - для работы в формате JSON\n",
        "from dateutil.parser import parse # Импортируем парсер дат, позволяет даты из текстового формата преобразовать в формат datetime\n",
        "\n",
        "github_user = \"realpython\" # Имя пользователя на гитхабе, можете использовать свое\n",
        "\n",
        "endpoint = f\"https://api.github.com/users/{github_user}/repos\"\n",
        "repos = json.loads(requests.get(endpoint).text)\n",
        "\n",
        "repositories = sorted(repos, key=lambda r: r[\"created_at\"], reverse=True) [:5]\n",
        "\n",
        "for repo in repositories: #\n",
        "    print('Репозиторий', repo['name'], 'создан', parse(repo['created_at']).strftime(\"%d.%m.%Y\"), ' - ', repo['language'])"
      ],
      "metadata": {
        "colab": {
          "base_uri": "https://localhost:8080/"
        },
        "id": "SYMjnTsXb3T0",
        "outputId": "f40d1378-7316-42d8-e015-b2e7e911923f"
      },
      "execution_count": null,
      "outputs": [
        {
          "output_type": "stream",
          "name": "stdout",
          "text": [
            "Репозиторий data-repos создан 20.01.2023  -  Python\n",
            "Репозиторий data-version-control создан 21.07.2020  -  Python\n",
            "Репозиторий django-receipts создан 02.04.2020  -  Python\n",
            "Репозиторий codetiming создан 28.07.2019  -  Python\n",
            "Репозиторий author-tools создан 29.10.2018  -  TypeScript\n"
          ]
        }
      ]
    },
    {
      "cell_type": "markdown",
      "source": [
        "Если мы хотим получить список дат всех репозиториев, то можно воспользоваться генератором списков:"
      ],
      "metadata": {
        "id": "zUjiOeLqXnjP"
      }
    },
    {
      "cell_type": "code",
      "source": [
        "dates = [parse(repo[\"created_at\"]) for repo in repos] # генератор списков, краткая запись цикла, результат записывается в виде списка в переменную dates\n",
        "print(dates)"
      ],
      "metadata": {
        "colab": {
          "base_uri": "https://localhost:8080/"
        },
        "id": "2kfT2WCPXi9N",
        "outputId": "4058e4f3-f400-4cf2-b683-bc2b12cfccce"
      },
      "execution_count": null,
      "outputs": [
        {
          "output_type": "stream",
          "name": "stdout",
          "text": [
            "[datetime.datetime(2014, 3, 26, 5, 6, 57, tzinfo=tzlocal()), datetime.datetime(2015, 4, 6, 17, 54, 46, tzinfo=tzlocal()), datetime.datetime(2017, 8, 28, 2, 24, 35, tzinfo=tzlocal()), datetime.datetime(2018, 10, 29, 22, 37, 28, tzinfo=tzlocal()), datetime.datetime(2016, 12, 28, 1, 40, 8, tzinfo=tzlocal()), datetime.datetime(2017, 9, 20, 14, 14, 30, tzinfo=tzlocal()), datetime.datetime(2014, 3, 10, 18, 9, 48, tzinfo=tzlocal()), datetime.datetime(2014, 3, 10, 18, 14, 30, tzinfo=tzlocal()), datetime.datetime(2014, 2, 26, 15, 55, 43, tzinfo=tzlocal()), datetime.datetime(2019, 7, 28, 18, 54, 10, tzinfo=tzlocal()), datetime.datetime(2015, 1, 21, 16, 28, 25, tzinfo=tzlocal()), datetime.datetime(2015, 6, 29, 4, 21, 48, tzinfo=tzlocal()), datetime.datetime(2023, 1, 20, 14, 56, 24, tzinfo=tzlocal()), datetime.datetime(2020, 7, 21, 13, 22, 47, tzinfo=tzlocal()), datetime.datetime(2014, 12, 3, 16, 24, 4, tzinfo=tzlocal()), datetime.datetime(2014, 6, 3, 17, 1, 36, tzinfo=tzlocal()), datetime.datetime(2016, 11, 29, 21, 11, 47, tzinfo=tzlocal()), datetime.datetime(2014, 9, 8, 20, 18, 10, tzinfo=tzlocal()), datetime.datetime(2014, 9, 14, 16, 6, 38, tzinfo=tzlocal()), datetime.datetime(2017, 2, 28, 1, 39, 32, tzinfo=tzlocal()), datetime.datetime(2014, 8, 25, 15, 53, 57, tzinfo=tzlocal()), datetime.datetime(2017, 5, 2, 13, 20, 27, tzinfo=tzlocal()), datetime.datetime(2020, 4, 2, 0, 41, 43, tzinfo=tzlocal()), datetime.datetime(2016, 9, 19, 21, 41, 10, tzinfo=tzlocal()), datetime.datetime(2014, 6, 2, 2, 10, 20, tzinfo=tzlocal()), datetime.datetime(2014, 11, 10, 14, 46, 24, tzinfo=tzlocal()), datetime.datetime(2015, 12, 27, 0, 11, 37, tzinfo=tzlocal()), datetime.datetime(2016, 1, 15, 3, 48, 16, tzinfo=tzlocal()), datetime.datetime(2014, 11, 4, 0, 24, 28, tzinfo=tzlocal()), datetime.datetime(2015, 5, 18, 3, 5, 34, tzinfo=tzlocal())]\n"
          ]
        }
      ]
    },
    {
      "cell_type": "code",
      "source": [
        "print('Форматируем дату:', dates[0].strftime(\"%d.%m.%Y\"))\n",
        "print('Форматируем дату в другой формат:', dates[0].strftime(\"%H:%M:%S %b %d %Y\"))\n",
        "print('Выводим день:', dates[0].day)\n",
        "print('Выводим месяц:', dates[0].month)\n",
        "print('Выводим год:', dates[0].year)\n",
        "print('Выводим час:', dates[0].hour)\n",
        "print('Выводим минуту:', dates[0].minute)\n",
        "print('Выводим секунду:', dates[0].second)\n",
        "print('Выводим микросекунду:', dates[0].microsecond)\n"
      ],
      "metadata": {
        "colab": {
          "base_uri": "https://localhost:8080/"
        },
        "id": "dFIN0lvt5EEu",
        "outputId": "3e0245c7-c753-4b3a-86f6-c22d0b122068"
      },
      "execution_count": null,
      "outputs": [
        {
          "output_type": "stream",
          "name": "stdout",
          "text": [
            "Форматируем дату: 26.03.2014\n",
            "Форматируем дату в другой формат: 05:06:57 Mar 26 2014\n",
            "Выводим день: 26\n",
            "Выводим месяц: 3\n",
            "Выводим год: 2014\n",
            "Выводим час: 5\n",
            "Выводим минуту: 6\n",
            "Выводим секунду: 57\n",
            "Выводим микросекунду: 0\n"
          ]
        }
      ]
    }
  ]
}